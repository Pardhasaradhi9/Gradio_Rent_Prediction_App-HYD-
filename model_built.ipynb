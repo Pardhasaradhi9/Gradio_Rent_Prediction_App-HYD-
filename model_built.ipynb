{
 "cells": [
  {
   "cell_type": "code",
   "execution_count": 204,
   "metadata": {},
   "outputs": [],
   "source": [
    "import pandas as pd\n",
    "import numpy as np\n",
    "from matplotlib import pyplot as plt\n",
    "import matplotlib.image as mpimg\n",
    "import seaborn as sns\n",
    "from sklearn.model_selection import train_test_split, ShuffleSplit, cross_val_score, GridSearchCV\n",
    "from sklearn.linear_model import LinearRegression, Lasso, Ridge\n",
    "from sklearn.metrics import r2_score, mean_absolute_error, mean_squared_error\n",
    "from sklearn.pipeline import Pipeline\n",
    "from sklearn.discriminant_analysis import StandardScaler"
   ]
  },
  {
   "cell_type": "markdown",
   "metadata": {},
   "source": [
    "# Data Loading"
   ]
  },
  {
   "cell_type": "code",
   "execution_count": 2,
   "metadata": {},
   "outputs": [
    {
     "data": {
      "text/html": [
       "<div>\n",
       "<style scoped>\n",
       "    .dataframe tbody tr th:only-of-type {\n",
       "        vertical-align: middle;\n",
       "    }\n",
       "\n",
       "    .dataframe tbody tr th {\n",
       "        vertical-align: top;\n",
       "    }\n",
       "\n",
       "    .dataframe thead th {\n",
       "        text-align: right;\n",
       "    }\n",
       "</style>\n",
       "<table border=\"1\" class=\"dataframe\">\n",
       "  <thead>\n",
       "    <tr style=\"text-align: right;\">\n",
       "      <th></th>\n",
       "      <th>active</th>\n",
       "      <th>amenities</th>\n",
       "      <th>balconies</th>\n",
       "      <th>bathroom</th>\n",
       "      <th>combineDescription</th>\n",
       "      <th>completeStreetName</th>\n",
       "      <th>deposit</th>\n",
       "      <th>facing</th>\n",
       "      <th>facingDesc</th>\n",
       "      <th>floor</th>\n",
       "      <th>...</th>\n",
       "      <th>property_size</th>\n",
       "      <th>reactivationSource</th>\n",
       "      <th>rent_amount</th>\n",
       "      <th>sharedAccomodation</th>\n",
       "      <th>shortUrl</th>\n",
       "      <th>swimmingPool</th>\n",
       "      <th>totalFloor</th>\n",
       "      <th>type_bhk</th>\n",
       "      <th>waterSupply</th>\n",
       "      <th>weight</th>\n",
       "    </tr>\n",
       "  </thead>\n",
       "  <tbody>\n",
       "    <tr>\n",
       "      <th>0</th>\n",
       "      <td>True</td>\n",
       "      <td>{\"LIFT\":true,\"GYM\":false,\"INTERNET\":false,\"AC\"...</td>\n",
       "      <td>3</td>\n",
       "      <td>3</td>\n",
       "      <td>NaN</td>\n",
       "      <td>Shreya carnation, Block I, NCB Enclave, Gachib...</td>\n",
       "      <td>90000</td>\n",
       "      <td>W</td>\n",
       "      <td>West</td>\n",
       "      <td>3</td>\n",
       "      <td>...</td>\n",
       "      <td>2200</td>\n",
       "      <td>USER_DASHBOARD</td>\n",
       "      <td>28000</td>\n",
       "      <td>False</td>\n",
       "      <td>http://nobr.kr/sv/9Kvqj</td>\n",
       "      <td>False</td>\n",
       "      <td>5</td>\n",
       "      <td>BHK3</td>\n",
       "      <td>CORP_BORE</td>\n",
       "      <td>NaN</td>\n",
       "    </tr>\n",
       "    <tr>\n",
       "      <th>1</th>\n",
       "      <td>True</td>\n",
       "      <td>{\"LIFT\":false,\"GYM\":false,\"INTERNET\":false,\"AC...</td>\n",
       "      <td>1</td>\n",
       "      <td>2</td>\n",
       "      <td>NaN</td>\n",
       "      <td>Inner Ring Rd,  near RTO Bandlaguda South Zone</td>\n",
       "      <td>45000</td>\n",
       "      <td>E</td>\n",
       "      <td>East</td>\n",
       "      <td>2</td>\n",
       "      <td>...</td>\n",
       "      <td>1200</td>\n",
       "      <td>USER_DASHBOARD</td>\n",
       "      <td>15000</td>\n",
       "      <td>False</td>\n",
       "      <td>http://nobr.kr/sv/j2pD6</td>\n",
       "      <td>False</td>\n",
       "      <td>2</td>\n",
       "      <td>BHK3</td>\n",
       "      <td>BOREWELL</td>\n",
       "      <td>NaN</td>\n",
       "    </tr>\n",
       "    <tr>\n",
       "      <th>2</th>\n",
       "      <td>True</td>\n",
       "      <td>{\"LIFT\":true,\"GYM\":true,\"INTERNET\":false,\"AC\":...</td>\n",
       "      <td>3</td>\n",
       "      <td>3</td>\n",
       "      <td>NaN</td>\n",
       "      <td>Rd Number 2, Shirdi Sai Nagar, Manikonda, Hyde...</td>\n",
       "      <td>80000</td>\n",
       "      <td>E</td>\n",
       "      <td>East</td>\n",
       "      <td>0</td>\n",
       "      <td>...</td>\n",
       "      <td>1800</td>\n",
       "      <td>MISSED_CALL</td>\n",
       "      <td>16000</td>\n",
       "      <td>False</td>\n",
       "      <td>http://nobr.kr/sv/TXJmj</td>\n",
       "      <td>False</td>\n",
       "      <td>3</td>\n",
       "      <td>BHK3</td>\n",
       "      <td>CORP_BORE</td>\n",
       "      <td>NaN</td>\n",
       "    </tr>\n",
       "    <tr>\n",
       "      <th>3</th>\n",
       "      <td>True</td>\n",
       "      <td>{\"LIFT\":false,\"GYM\":false,\"INTERNET\":false,\"AC...</td>\n",
       "      <td>1</td>\n",
       "      <td>2</td>\n",
       "      <td>NaN</td>\n",
       "      <td>Plot No. 44, Road No. 1/A, kakatiya colony, LB...</td>\n",
       "      <td>18000</td>\n",
       "      <td>W</td>\n",
       "      <td>West</td>\n",
       "      <td>2</td>\n",
       "      <td>...</td>\n",
       "      <td>750</td>\n",
       "      <td>MISSED_CALL</td>\n",
       "      <td>9000</td>\n",
       "      <td>False</td>\n",
       "      <td>http://nobr.kr/sv/FnCsf</td>\n",
       "      <td>False</td>\n",
       "      <td>2</td>\n",
       "      <td>BHK2</td>\n",
       "      <td>CORP_BORE</td>\n",
       "      <td>NaN</td>\n",
       "    </tr>\n",
       "    <tr>\n",
       "      <th>4</th>\n",
       "      <td>True</td>\n",
       "      <td>{\"LIFT\":true,\"GYM\":false,\"INTERNET\":false,\"AC\"...</td>\n",
       "      <td>2</td>\n",
       "      <td>2</td>\n",
       "      <td>NaN</td>\n",
       "      <td>Madhapur HUDA Techno Enclave,  Near MaxCure Su...</td>\n",
       "      <td>80000</td>\n",
       "      <td>E</td>\n",
       "      <td>East</td>\n",
       "      <td>2</td>\n",
       "      <td>...</td>\n",
       "      <td>1250</td>\n",
       "      <td>None</td>\n",
       "      <td>32500</td>\n",
       "      <td>False</td>\n",
       "      <td>http://nobr.kr/sv/BQFRb</td>\n",
       "      <td>False</td>\n",
       "      <td>5</td>\n",
       "      <td>BHK2</td>\n",
       "      <td>CORP_BORE</td>\n",
       "      <td>NaN</td>\n",
       "    </tr>\n",
       "  </tbody>\n",
       "</table>\n",
       "<p>5 rows × 36 columns</p>\n",
       "</div>"
      ],
      "text/plain": [
       "   active                                          amenities balconies  \\\n",
       "0    True  {\"LIFT\":true,\"GYM\":false,\"INTERNET\":false,\"AC\"...         3   \n",
       "1    True  {\"LIFT\":false,\"GYM\":false,\"INTERNET\":false,\"AC...         1   \n",
       "2    True  {\"LIFT\":true,\"GYM\":true,\"INTERNET\":false,\"AC\":...         3   \n",
       "3    True  {\"LIFT\":false,\"GYM\":false,\"INTERNET\":false,\"AC...         1   \n",
       "4    True  {\"LIFT\":true,\"GYM\":false,\"INTERNET\":false,\"AC\"...         2   \n",
       "\n",
       "   bathroom  combineDescription  \\\n",
       "0         3                 NaN   \n",
       "1         2                 NaN   \n",
       "2         3                 NaN   \n",
       "3         2                 NaN   \n",
       "4         2                 NaN   \n",
       "\n",
       "                                  completeStreetName  deposit facing  \\\n",
       "0  Shreya carnation, Block I, NCB Enclave, Gachib...    90000      W   \n",
       "1     Inner Ring Rd,  near RTO Bandlaguda South Zone    45000      E   \n",
       "2  Rd Number 2, Shirdi Sai Nagar, Manikonda, Hyde...    80000      E   \n",
       "3  Plot No. 44, Road No. 1/A, kakatiya colony, LB...    18000      W   \n",
       "4  Madhapur HUDA Techno Enclave,  Near MaxCure Su...    80000      E   \n",
       "\n",
       "  facingDesc  floor  ... property_size  reactivationSource rent_amount  \\\n",
       "0       West      3  ...          2200      USER_DASHBOARD       28000   \n",
       "1       East      2  ...          1200      USER_DASHBOARD       15000   \n",
       "2       East      0  ...          1800         MISSED_CALL       16000   \n",
       "3       West      2  ...           750         MISSED_CALL        9000   \n",
       "4       East      2  ...          1250                None       32500   \n",
       "\n",
       "   sharedAccomodation                 shortUrl  swimmingPool totalFloor  \\\n",
       "0               False  http://nobr.kr/sv/9Kvqj         False          5   \n",
       "1               False  http://nobr.kr/sv/j2pD6         False          2   \n",
       "2               False  http://nobr.kr/sv/TXJmj         False          3   \n",
       "3               False  http://nobr.kr/sv/FnCsf         False          2   \n",
       "4               False  http://nobr.kr/sv/BQFRb         False          5   \n",
       "\n",
       "  type_bhk waterSupply weight  \n",
       "0     BHK3   CORP_BORE    NaN  \n",
       "1     BHK3    BOREWELL    NaN  \n",
       "2     BHK3   CORP_BORE    NaN  \n",
       "3     BHK2   CORP_BORE    NaN  \n",
       "4     BHK2   CORP_BORE    NaN  \n",
       "\n",
       "[5 rows x 36 columns]"
      ]
     },
     "execution_count": 2,
     "metadata": {},
     "output_type": "execute_result"
    }
   ],
   "source": [
    "df1 = pd.read_csv('Hyd_house_rent_data.csv')\n",
    "df1.head()"
   ]
  },
  {
   "cell_type": "code",
   "execution_count": 3,
   "metadata": {},
   "outputs": [
    {
     "data": {
      "text/plain": [
       "(19110, 36)"
      ]
     },
     "execution_count": 3,
     "metadata": {},
     "output_type": "execute_result"
    }
   ],
   "source": [
    "df1.shape"
   ]
  },
  {
   "cell_type": "code",
   "execution_count": 6,
   "metadata": {},
   "outputs": [
    {
     "data": {
      "text/plain": [
       "Index(['active', 'amenities', 'balconies', 'bathroom', 'combineDescription',\n",
       "       'completeStreetName', 'deposit', 'facing', 'facingDesc', 'floor',\n",
       "       'furnishingDesc', 'gym', 'id', 'isMaintenance', 'lift', 'loanAvailable',\n",
       "       'locality', 'localityId', 'location', 'maintenanceAmount', 'ownerName',\n",
       "       'parking', 'parkingDesc', 'propertyTitle', 'propertyType',\n",
       "       'property_age', 'property_size', 'reactivationSource', 'rent_amount',\n",
       "       'sharedAccomodation', 'shortUrl', 'swimmingPool', 'totalFloor',\n",
       "       'type_bhk', 'waterSupply', 'weight'],\n",
       "      dtype='object')"
      ]
     },
     "execution_count": 6,
     "metadata": {},
     "output_type": "execute_result"
    }
   ],
   "source": [
    "df1.columns"
   ]
  },
  {
   "cell_type": "markdown",
   "metadata": {},
   "source": [
    "# Data Cleaning"
   ]
  },
  {
   "cell_type": "code",
   "execution_count": 7,
   "metadata": {},
   "outputs": [
    {
     "name": "stdout",
     "output_type": "stream",
     "text": [
      "<class 'pandas.core.frame.DataFrame'>\n",
      "RangeIndex: 19110 entries, 0 to 19109\n",
      "Data columns (total 36 columns):\n",
      " #   Column              Non-Null Count  Dtype  \n",
      "---  ------              --------------  -----  \n",
      " 0   active              19110 non-null  bool   \n",
      " 1   amenities           19110 non-null  object \n",
      " 2   balconies           19110 non-null  object \n",
      " 3   bathroom            19110 non-null  int64  \n",
      " 4   combineDescription  0 non-null      float64\n",
      " 5   completeStreetName  19108 non-null  object \n",
      " 6   deposit             19110 non-null  int64  \n",
      " 7   facing              19110 non-null  object \n",
      " 8   facingDesc          9569 non-null   object \n",
      " 9   floor               19110 non-null  int64  \n",
      " 10  furnishingDesc      19110 non-null  object \n",
      " 11  gym                 19110 non-null  bool   \n",
      " 12  id                  19110 non-null  object \n",
      " 13  isMaintenance       19110 non-null  bool   \n",
      " 14  lift                19110 non-null  bool   \n",
      " 15  loanAvailable       19110 non-null  bool   \n",
      " 16  locality            19104 non-null  object \n",
      " 17  localityId          19110 non-null  object \n",
      " 18  location            19110 non-null  object \n",
      " 19  maintenanceAmount   19110 non-null  object \n",
      " 20  ownerName           19110 non-null  object \n",
      " 21  parking             19110 non-null  object \n",
      " 22  parkingDesc         19110 non-null  object \n",
      " 23  propertyTitle       19110 non-null  object \n",
      " 24  propertyType        19110 non-null  object \n",
      " 25  property_age        19110 non-null  int64  \n",
      " 26  property_size       19110 non-null  int64  \n",
      " 27  reactivationSource  19047 non-null  object \n",
      " 28  rent_amount         19110 non-null  int64  \n",
      " 29  sharedAccomodation  19110 non-null  bool   \n",
      " 30  shortUrl            19110 non-null  object \n",
      " 31  swimmingPool        19110 non-null  bool   \n",
      " 32  totalFloor          19110 non-null  int64  \n",
      " 33  type_bhk            19110 non-null  object \n",
      " 34  waterSupply         19110 non-null  object \n",
      " 35  weight              0 non-null      float64\n",
      "dtypes: bool(7), float64(2), int64(7), object(20)\n",
      "memory usage: 4.4+ MB\n"
     ]
    }
   ],
   "source": [
    "df1.info()"
   ]
  },
  {
   "cell_type": "code",
   "execution_count": 74,
   "metadata": {},
   "outputs": [
    {
     "data": {
      "text/html": [
       "<div>\n",
       "<style scoped>\n",
       "    .dataframe tbody tr th:only-of-type {\n",
       "        vertical-align: middle;\n",
       "    }\n",
       "\n",
       "    .dataframe tbody tr th {\n",
       "        vertical-align: top;\n",
       "    }\n",
       "\n",
       "    .dataframe thead th {\n",
       "        text-align: right;\n",
       "    }\n",
       "</style>\n",
       "<table border=\"1\" class=\"dataframe\">\n",
       "  <thead>\n",
       "    <tr style=\"text-align: right;\">\n",
       "      <th></th>\n",
       "      <th>locality</th>\n",
       "      <th>balconies</th>\n",
       "      <th>bathroom</th>\n",
       "      <th>furnishingDesc</th>\n",
       "      <th>parking</th>\n",
       "      <th>rent_amount</th>\n",
       "      <th>property_size</th>\n",
       "      <th>type_bhk</th>\n",
       "      <th>facing</th>\n",
       "      <th>floor</th>\n",
       "    </tr>\n",
       "  </thead>\n",
       "  <tbody>\n",
       "    <tr>\n",
       "      <th>0</th>\n",
       "      <td>Gachibowli</td>\n",
       "      <td>3</td>\n",
       "      <td>3</td>\n",
       "      <td>Semi</td>\n",
       "      <td>BOTH</td>\n",
       "      <td>28000</td>\n",
       "      <td>2200</td>\n",
       "      <td>BHK3</td>\n",
       "      <td>W</td>\n",
       "      <td>3</td>\n",
       "    </tr>\n",
       "    <tr>\n",
       "      <th>1</th>\n",
       "      <td>Chandrayangutta</td>\n",
       "      <td>1</td>\n",
       "      <td>2</td>\n",
       "      <td>Unfurnished</td>\n",
       "      <td>TWO_WHEELER</td>\n",
       "      <td>15000</td>\n",
       "      <td>1200</td>\n",
       "      <td>BHK3</td>\n",
       "      <td>E</td>\n",
       "      <td>2</td>\n",
       "    </tr>\n",
       "    <tr>\n",
       "      <th>2</th>\n",
       "      <td>Manikonda</td>\n",
       "      <td>3</td>\n",
       "      <td>3</td>\n",
       "      <td>Semi</td>\n",
       "      <td>BOTH</td>\n",
       "      <td>16000</td>\n",
       "      <td>1800</td>\n",
       "      <td>BHK3</td>\n",
       "      <td>E</td>\n",
       "      <td>0</td>\n",
       "    </tr>\n",
       "    <tr>\n",
       "      <th>3</th>\n",
       "      <td>LB Nagar</td>\n",
       "      <td>1</td>\n",
       "      <td>2</td>\n",
       "      <td>Unfurnished</td>\n",
       "      <td>BOTH</td>\n",
       "      <td>9000</td>\n",
       "      <td>750</td>\n",
       "      <td>BHK2</td>\n",
       "      <td>W</td>\n",
       "      <td>2</td>\n",
       "    </tr>\n",
       "    <tr>\n",
       "      <th>4</th>\n",
       "      <td>HITEC City</td>\n",
       "      <td>2</td>\n",
       "      <td>2</td>\n",
       "      <td>Semi</td>\n",
       "      <td>BOTH</td>\n",
       "      <td>32500</td>\n",
       "      <td>1250</td>\n",
       "      <td>BHK2</td>\n",
       "      <td>E</td>\n",
       "      <td>2</td>\n",
       "    </tr>\n",
       "  </tbody>\n",
       "</table>\n",
       "</div>"
      ],
      "text/plain": [
       "          locality balconies  bathroom furnishingDesc      parking  \\\n",
       "0       Gachibowli         3         3           Semi         BOTH   \n",
       "1  Chandrayangutta         1         2    Unfurnished  TWO_WHEELER   \n",
       "2        Manikonda         3         3           Semi         BOTH   \n",
       "3         LB Nagar         1         2    Unfurnished         BOTH   \n",
       "4       HITEC City         2         2           Semi         BOTH   \n",
       "\n",
       "   rent_amount  property_size type_bhk facing  floor  \n",
       "0        28000           2200     BHK3      W      3  \n",
       "1        15000           1200     BHK3      E      2  \n",
       "2        16000           1800     BHK3      E      0  \n",
       "3         9000            750     BHK2      W      2  \n",
       "4        32500           1250     BHK2      E      2  "
      ]
     },
     "execution_count": 74,
     "metadata": {},
     "output_type": "execute_result"
    }
   ],
   "source": [
    "df2 = df1[['locality', 'balconies', 'bathroom', 'furnishingDesc', 'parking', 'rent_amount', 'property_size', 'type_bhk', 'facing', 'floor']]\n",
    "df2.head()"
   ]
  },
  {
   "cell_type": "code",
   "execution_count": 75,
   "metadata": {},
   "outputs": [
    {
     "data": {
      "text/plain": [
       "(19110, 10)"
      ]
     },
     "execution_count": 75,
     "metadata": {},
     "output_type": "execute_result"
    }
   ],
   "source": [
    "df2.shape"
   ]
  },
  {
   "cell_type": "code",
   "execution_count": 76,
   "metadata": {},
   "outputs": [
    {
     "data": {
      "text/plain": [
       "locality          6\n",
       "balconies         0\n",
       "bathroom          0\n",
       "furnishingDesc    0\n",
       "parking           0\n",
       "rent_amount       0\n",
       "property_size     0\n",
       "type_bhk          0\n",
       "facing            0\n",
       "floor             0\n",
       "dtype: int64"
      ]
     },
     "execution_count": 76,
     "metadata": {},
     "output_type": "execute_result"
    }
   ],
   "source": [
    "df2.isnull().sum()"
   ]
  },
  {
   "cell_type": "code",
   "execution_count": 78,
   "metadata": {},
   "outputs": [
    {
     "name": "stdout",
     "output_type": "stream",
     "text": [
      "['3' '1' '2' '0' 'None' '4' '5' '120' '12' '6' '110']\n",
      "[ 3  2  1  4  5  7  6  8 12 14]\n",
      "[ 3  2  0  5 20  1  4 13  6 14 11  9  8 15  7 10 23 18 31 17 16 21 12 22\n",
      " 25 19 24 30 26 28 29]\n",
      "['BOTH' 'TWO_WHEELER' 'FOUR_WHEELER' 'NONE']\n",
      "['BHK3' 'BHK2' 'BHK1' 'BHK4' 'RK1' 'BHK4PLUS']\n",
      "['Semi' 'Unfurnished' 'Full']\n"
     ]
    }
   ],
   "source": [
    "print(df2['balconies'].unique())\n",
    "print(df2['bathroom'].unique())\n",
    "print(df2['floor'].unique())\n",
    "print(df2['parking'].unique())\n",
    "print(df2['type_bhk'].unique())\n",
    "print(df2['furnishingDesc'].unique())"
   ]
  },
  {
   "cell_type": "code",
   "execution_count": 79,
   "metadata": {},
   "outputs": [
    {
     "name": "stdout",
     "output_type": "stream",
     "text": [
      "<class 'pandas.core.frame.DataFrame'>\n",
      "RangeIndex: 19110 entries, 0 to 19109\n",
      "Data columns (total 10 columns):\n",
      " #   Column          Non-Null Count  Dtype \n",
      "---  ------          --------------  ----- \n",
      " 0   locality        19104 non-null  object\n",
      " 1   balconies       19110 non-null  object\n",
      " 2   bathroom        19110 non-null  int64 \n",
      " 3   furnishingDesc  19110 non-null  object\n",
      " 4   parking         19110 non-null  object\n",
      " 5   rent_amount     19110 non-null  int64 \n",
      " 6   property_size   19110 non-null  int64 \n",
      " 7   type_bhk        19110 non-null  object\n",
      " 8   facing          19110 non-null  object\n",
      " 9   floor           19110 non-null  int64 \n",
      "dtypes: int64(4), object(6)\n",
      "memory usage: 1.5+ MB\n"
     ]
    }
   ],
   "source": [
    "df2.info()"
   ]
  },
  {
   "cell_type": "code",
   "execution_count": 81,
   "metadata": {},
   "outputs": [
    {
     "data": {
      "text/plain": [
       "None    9536\n",
       "1       4614\n",
       "2       3434\n",
       "0        773\n",
       "3        654\n",
       "4         83\n",
       "5         11\n",
       "110        2\n",
       "120        1\n",
       "12         1\n",
       "6          1\n",
       "Name: balconies, dtype: int64"
      ]
     },
     "execution_count": 81,
     "metadata": {},
     "output_type": "execute_result"
    }
   ],
   "source": [
    "df2.balconies.value_counts()"
   ]
  },
  {
   "cell_type": "code",
   "execution_count": null,
   "metadata": {},
   "outputs": [],
   "source": [
    "df2['balconies'] = df2['balconies'].replace('None', '0');"
   ]
  },
  {
   "cell_type": "code",
   "execution_count": 83,
   "metadata": {},
   "outputs": [
    {
     "data": {
      "text/plain": [
       "0      10309\n",
       "1       4614\n",
       "2       3434\n",
       "3        654\n",
       "4         83\n",
       "5         11\n",
       "110        2\n",
       "120        1\n",
       "12         1\n",
       "6          1\n",
       "Name: balconies, dtype: int64"
      ]
     },
     "execution_count": 83,
     "metadata": {},
     "output_type": "execute_result"
    }
   ],
   "source": [
    "df2.balconies.value_counts()"
   ]
  },
  {
   "cell_type": "code",
   "execution_count": null,
   "metadata": {},
   "outputs": [],
   "source": [
    "df2[\"balconies\"] = pd.to_numeric(df2[\"balconies\"])\n",
    "df2.info()"
   ]
  },
  {
   "cell_type": "code",
   "execution_count": 85,
   "metadata": {},
   "outputs": [
    {
     "name": "stdout",
     "output_type": "stream",
     "text": [
      "[  3   1   2   0   4   5 120  12   6 110]\n"
     ]
    }
   ],
   "source": [
    "print(df2['balconies'].unique())"
   ]
  },
  {
   "cell_type": "code",
   "execution_count": 86,
   "metadata": {},
   "outputs": [
    {
     "data": {
      "text/html": [
       "<div>\n",
       "<style scoped>\n",
       "    .dataframe tbody tr th:only-of-type {\n",
       "        vertical-align: middle;\n",
       "    }\n",
       "\n",
       "    .dataframe tbody tr th {\n",
       "        vertical-align: top;\n",
       "    }\n",
       "\n",
       "    .dataframe thead th {\n",
       "        text-align: right;\n",
       "    }\n",
       "</style>\n",
       "<table border=\"1\" class=\"dataframe\">\n",
       "  <thead>\n",
       "    <tr style=\"text-align: right;\">\n",
       "      <th></th>\n",
       "      <th>locality</th>\n",
       "      <th>balconies</th>\n",
       "      <th>bathroom</th>\n",
       "      <th>furnishingDesc</th>\n",
       "      <th>parking</th>\n",
       "      <th>rent_amount</th>\n",
       "      <th>property_size</th>\n",
       "      <th>type_bhk</th>\n",
       "      <th>facing</th>\n",
       "      <th>floor</th>\n",
       "    </tr>\n",
       "  </thead>\n",
       "  <tbody>\n",
       "    <tr>\n",
       "      <th>2318</th>\n",
       "      <td>Chanda Nagar</td>\n",
       "      <td>120</td>\n",
       "      <td>2</td>\n",
       "      <td>Semi</td>\n",
       "      <td>TWO_WHEELER</td>\n",
       "      <td>12500</td>\n",
       "      <td>800</td>\n",
       "      <td>BHK2</td>\n",
       "      <td>E</td>\n",
       "      <td>1</td>\n",
       "    </tr>\n",
       "    <tr>\n",
       "      <th>13393</th>\n",
       "      <td>Begumpet</td>\n",
       "      <td>12</td>\n",
       "      <td>2</td>\n",
       "      <td>Semi</td>\n",
       "      <td>TWO_WHEELER</td>\n",
       "      <td>11500</td>\n",
       "      <td>800</td>\n",
       "      <td>BHK2</td>\n",
       "      <td>N</td>\n",
       "      <td>3</td>\n",
       "    </tr>\n",
       "    <tr>\n",
       "      <th>17386</th>\n",
       "      <td>Attapur</td>\n",
       "      <td>110</td>\n",
       "      <td>2</td>\n",
       "      <td>Full</td>\n",
       "      <td>BOTH</td>\n",
       "      <td>30000</td>\n",
       "      <td>1098</td>\n",
       "      <td>BHK2</td>\n",
       "      <td>NE</td>\n",
       "      <td>2</td>\n",
       "    </tr>\n",
       "    <tr>\n",
       "      <th>17390</th>\n",
       "      <td>Attapur</td>\n",
       "      <td>110</td>\n",
       "      <td>2</td>\n",
       "      <td>Full</td>\n",
       "      <td>BOTH</td>\n",
       "      <td>30000</td>\n",
       "      <td>1098</td>\n",
       "      <td>BHK2</td>\n",
       "      <td>NE</td>\n",
       "      <td>2</td>\n",
       "    </tr>\n",
       "  </tbody>\n",
       "</table>\n",
       "</div>"
      ],
      "text/plain": [
       "           locality  balconies  bathroom furnishingDesc      parking  \\\n",
       "2318   Chanda Nagar        120         2           Semi  TWO_WHEELER   \n",
       "13393      Begumpet         12         2           Semi  TWO_WHEELER   \n",
       "17386       Attapur        110         2           Full         BOTH   \n",
       "17390       Attapur        110         2           Full         BOTH   \n",
       "\n",
       "       rent_amount  property_size type_bhk facing  floor  \n",
       "2318         12500            800     BHK2      E      1  \n",
       "13393        11500            800     BHK2      N      3  \n",
       "17386        30000           1098     BHK2     NE      2  \n",
       "17390        30000           1098     BHK2     NE      2  "
      ]
     },
     "execution_count": 86,
     "metadata": {},
     "output_type": "execute_result"
    }
   ],
   "source": [
    "df2[df2.balconies>7]"
   ]
  },
  {
   "cell_type": "code",
   "execution_count": 88,
   "metadata": {},
   "outputs": [
    {
     "data": {
      "text/html": [
       "<div>\n",
       "<style scoped>\n",
       "    .dataframe tbody tr th:only-of-type {\n",
       "        vertical-align: middle;\n",
       "    }\n",
       "\n",
       "    .dataframe tbody tr th {\n",
       "        vertical-align: top;\n",
       "    }\n",
       "\n",
       "    .dataframe thead th {\n",
       "        text-align: right;\n",
       "    }\n",
       "</style>\n",
       "<table border=\"1\" class=\"dataframe\">\n",
       "  <thead>\n",
       "    <tr style=\"text-align: right;\">\n",
       "      <th></th>\n",
       "      <th>locality</th>\n",
       "      <th>balconies</th>\n",
       "      <th>bathroom</th>\n",
       "      <th>furnishingDesc</th>\n",
       "      <th>parking</th>\n",
       "      <th>rent_amount</th>\n",
       "      <th>property_size</th>\n",
       "      <th>type_bhk</th>\n",
       "      <th>facing</th>\n",
       "      <th>floor</th>\n",
       "    </tr>\n",
       "  </thead>\n",
       "  <tbody>\n",
       "  </tbody>\n",
       "</table>\n",
       "</div>"
      ],
      "text/plain": [
       "Empty DataFrame\n",
       "Columns: [locality, balconies, bathroom, furnishingDesc, parking, rent_amount, property_size, type_bhk, facing, floor]\n",
       "Index: []"
      ]
     },
     "execution_count": 88,
     "metadata": {},
     "output_type": "execute_result"
    }
   ],
   "source": [
    "def isfloat(x):\n",
    "    try :\n",
    "        float(x)\n",
    "    except:\n",
    "        return False\n",
    "    return True    \n",
    "\n",
    "df2[~df2['property_size'].apply(isfloat)].head()"
   ]
  },
  {
   "cell_type": "code",
   "execution_count": 60,
   "metadata": {},
   "outputs": [
    {
     "data": {
      "image/png": "[encoded data removed]",
      "text/plain": [
       "<Figure size 640x480 with 1 Axes>"
      ]
     },
     "metadata": {},
     "output_type": "display_data"
    }
   ],
   "source": [
    "plt.title('Different types of Bedrooms available')\n",
    "plt.plot(df2.type_bhk.value_counts());"
   ]
  },
  {
   "cell_type": "code",
   "execution_count": 106,
   "metadata": {},
   "outputs": [
    {
     "data": {
      "text/plain": [
       "locality          0\n",
       "balconies         0\n",
       "bathroom          0\n",
       "furnishingDesc    0\n",
       "parking           0\n",
       "rent_amount       0\n",
       "property_size     0\n",
       "type_bhk          0\n",
       "facing            0\n",
       "floor             0\n",
       "dtype: int64"
      ]
     },
     "execution_count": 106,
     "metadata": {},
     "output_type": "execute_result"
    }
   ],
   "source": [
    "df3 = df2.dropna()\n",
    "df3.isnull().sum()"
   ]
  },
  {
   "cell_type": "markdown",
   "metadata": {},
   "source": [
    "# Feature Engineering"
   ]
  },
  {
   "cell_type": "code",
   "execution_count": 107,
   "metadata": {},
   "outputs": [
    {
     "name": "stderr",
     "output_type": "stream",
     "text": [
      "/var/folders/fj/6bcxvpyx3_z_pgcq8hqml31w0000gn/T/ipykernel_4292/2689955936.py:1: SettingWithCopyWarning: \n",
      "A value is trying to be set on a copy of a slice from a DataFrame.\n",
      "Try using .loc[row_indexer,col_indexer] = value instead\n",
      "\n",
      "See the caveats in the documentation: https://pandas.pydata.org/pandas-docs/stable/user_guide/indexing.html#returning-a-view-versus-a-copy\n",
      "  df3['rent_per_sqft'] = df3['rent_amount'] /df3['property_size']\n"
     ]
    },
    {
     "data": {
      "text/html": [
       "<div>\n",
       "<style scoped>\n",
       "    .dataframe tbody tr th:only-of-type {\n",
       "        vertical-align: middle;\n",
       "    }\n",
       "\n",
       "    .dataframe tbody tr th {\n",
       "        vertical-align: top;\n",
       "    }\n",
       "\n",
       "    .dataframe thead th {\n",
       "        text-align: right;\n",
       "    }\n",
       "</style>\n",
       "<table border=\"1\" class=\"dataframe\">\n",
       "  <thead>\n",
       "    <tr style=\"text-align: right;\">\n",
       "      <th></th>\n",
       "      <th>locality</th>\n",
       "      <th>balconies</th>\n",
       "      <th>bathroom</th>\n",
       "      <th>furnishingDesc</th>\n",
       "      <th>parking</th>\n",
       "      <th>rent_amount</th>\n",
       "      <th>property_size</th>\n",
       "      <th>type_bhk</th>\n",
       "      <th>facing</th>\n",
       "      <th>floor</th>\n",
       "      <th>rent_per_sqft</th>\n",
       "    </tr>\n",
       "  </thead>\n",
       "  <tbody>\n",
       "    <tr>\n",
       "      <th>0</th>\n",
       "      <td>Gachibowli</td>\n",
       "      <td>3</td>\n",
       "      <td>3</td>\n",
       "      <td>Semi</td>\n",
       "      <td>BOTH</td>\n",
       "      <td>28000</td>\n",
       "      <td>2200</td>\n",
       "      <td>BHK3</td>\n",
       "      <td>W</td>\n",
       "      <td>3</td>\n",
       "      <td>12.727273</td>\n",
       "    </tr>\n",
       "    <tr>\n",
       "      <th>1</th>\n",
       "      <td>Chandrayangutta</td>\n",
       "      <td>1</td>\n",
       "      <td>2</td>\n",
       "      <td>Unfurnished</td>\n",
       "      <td>TWO_WHEELER</td>\n",
       "      <td>15000</td>\n",
       "      <td>1200</td>\n",
       "      <td>BHK3</td>\n",
       "      <td>E</td>\n",
       "      <td>2</td>\n",
       "      <td>12.500000</td>\n",
       "    </tr>\n",
       "    <tr>\n",
       "      <th>2</th>\n",
       "      <td>Manikonda</td>\n",
       "      <td>3</td>\n",
       "      <td>3</td>\n",
       "      <td>Semi</td>\n",
       "      <td>BOTH</td>\n",
       "      <td>16000</td>\n",
       "      <td>1800</td>\n",
       "      <td>BHK3</td>\n",
       "      <td>E</td>\n",
       "      <td>0</td>\n",
       "      <td>8.888889</td>\n",
       "    </tr>\n",
       "    <tr>\n",
       "      <th>3</th>\n",
       "      <td>LB Nagar</td>\n",
       "      <td>1</td>\n",
       "      <td>2</td>\n",
       "      <td>Unfurnished</td>\n",
       "      <td>BOTH</td>\n",
       "      <td>9000</td>\n",
       "      <td>750</td>\n",
       "      <td>BHK2</td>\n",
       "      <td>W</td>\n",
       "      <td>2</td>\n",
       "      <td>12.000000</td>\n",
       "    </tr>\n",
       "    <tr>\n",
       "      <th>4</th>\n",
       "      <td>HITEC City</td>\n",
       "      <td>2</td>\n",
       "      <td>2</td>\n",
       "      <td>Semi</td>\n",
       "      <td>BOTH</td>\n",
       "      <td>32500</td>\n",
       "      <td>1250</td>\n",
       "      <td>BHK2</td>\n",
       "      <td>E</td>\n",
       "      <td>2</td>\n",
       "      <td>26.000000</td>\n",
       "    </tr>\n",
       "  </tbody>\n",
       "</table>\n",
       "</div>"
      ],
      "text/plain": [
       "          locality  balconies  bathroom furnishingDesc      parking  \\\n",
       "0       Gachibowli          3         3           Semi         BOTH   \n",
       "1  Chandrayangutta          1         2    Unfurnished  TWO_WHEELER   \n",
       "2        Manikonda          3         3           Semi         BOTH   \n",
       "3         LB Nagar          1         2    Unfurnished         BOTH   \n",
       "4       HITEC City          2         2           Semi         BOTH   \n",
       "\n",
       "   rent_amount  property_size type_bhk facing  floor  rent_per_sqft  \n",
       "0        28000           2200     BHK3      W      3      12.727273  \n",
       "1        15000           1200     BHK3      E      2      12.500000  \n",
       "2        16000           1800     BHK3      E      0       8.888889  \n",
       "3         9000            750     BHK2      W      2      12.000000  \n",
       "4        32500           1250     BHK2      E      2      26.000000  "
      ]
     },
     "execution_count": 107,
     "metadata": {},
     "output_type": "execute_result"
    }
   ],
   "source": [
    "df3['rent_per_sqft'] = df3['rent_amount'] /df3['property_size']\n",
    "df3.head()"
   ]
  },
  {
   "cell_type": "code",
   "execution_count": 108,
   "metadata": {},
   "outputs": [
    {
     "data": {
      "text/plain": [
       "2638"
      ]
     },
     "execution_count": 108,
     "metadata": {},
     "output_type": "execute_result"
    }
   ],
   "source": [
    "len(df3.locality.unique())"
   ]
  },
  {
   "cell_type": "code",
   "execution_count": 109,
   "metadata": {},
   "outputs": [
    {
     "data": {
      "text/plain": [
       "2428"
      ]
     },
     "execution_count": 109,
     "metadata": {},
     "output_type": "execute_result"
    }
   ],
   "source": [
    "len(df3.locality.value_counts()[df3.locality.value_counts()<=10])"
   ]
  },
  {
   "cell_type": "code",
   "execution_count": 102,
   "metadata": {},
   "outputs": [
    {
     "data": {
      "text/plain": [
       "Begumpet Airport    10\n",
       "Ibrahim Bagh        10\n",
       " Hafeezpet          10\n",
       "nizampet            10\n",
       "Humayun Nagar       10\n",
       "                    ..\n",
       "Namalagundu          1\n",
       "Medipattanam         1\n",
       "Himayathnagar        1\n",
       "Shilpa Park          1\n",
       "Sikh Village,        1\n",
       "Name: locality, Length: 2428, dtype: int64"
      ]
     },
     "execution_count": 102,
     "metadata": {},
     "output_type": "execute_result"
    }
   ],
   "source": [
    "other_loc = df3.locality.value_counts()[df3.locality.value_counts()<=10]\n",
    "other_loc"
   ]
  },
  {
   "cell_type": "code",
   "execution_count": 110,
   "metadata": {},
   "outputs": [
    {
     "name": "stderr",
     "output_type": "stream",
     "text": [
      "/var/folders/fj/6bcxvpyx3_z_pgcq8hqml31w0000gn/T/ipykernel_4292/1406296846.py:1: SettingWithCopyWarning: \n",
      "A value is trying to be set on a copy of a slice from a DataFrame.\n",
      "Try using .loc[row_indexer,col_indexer] = value instead\n",
      "\n",
      "See the caveats in the documentation: https://pandas.pydata.org/pandas-docs/stable/user_guide/indexing.html#returning-a-view-versus-a-copy\n",
      "  df3.locality = df3.locality.apply(lambda x: 'other' if x in other_loc else x)\n"
     ]
    },
    {
     "data": {
      "text/plain": [
       "211"
      ]
     },
     "execution_count": 110,
     "metadata": {},
     "output_type": "execute_result"
    }
   ],
   "source": [
    "df3.locality = df3.locality.apply(lambda x: 'other' if x in other_loc else x)\n",
    "len(df3.locality.unique())"
   ]
  },
  {
   "cell_type": "code",
   "execution_count": 111,
   "metadata": {},
   "outputs": [
    {
     "name": "stderr",
     "output_type": "stream",
     "text": [
      "/var/folders/fj/6bcxvpyx3_z_pgcq8hqml31w0000gn/T/ipykernel_4292/319017733.py:1: SettingWithCopyWarning: \n",
      "A value is trying to be set on a copy of a slice from a DataFrame.\n",
      "Try using .loc[row_indexer,col_indexer] = value instead\n",
      "\n",
      "See the caveats in the documentation: https://pandas.pydata.org/pandas-docs/stable/user_guide/indexing.html#returning-a-view-versus-a-copy\n",
      "  df3.locality = df3.locality.apply(lambda x: x.strip())\n"
     ]
    },
    {
     "data": {
      "text/html": [
       "<div>\n",
       "<style scoped>\n",
       "    .dataframe tbody tr th:only-of-type {\n",
       "        vertical-align: middle;\n",
       "    }\n",
       "\n",
       "    .dataframe tbody tr th {\n",
       "        vertical-align: top;\n",
       "    }\n",
       "\n",
       "    .dataframe thead th {\n",
       "        text-align: right;\n",
       "    }\n",
       "</style>\n",
       "<table border=\"1\" class=\"dataframe\">\n",
       "  <thead>\n",
       "    <tr style=\"text-align: right;\">\n",
       "      <th></th>\n",
       "      <th>locality</th>\n",
       "      <th>balconies</th>\n",
       "      <th>bathroom</th>\n",
       "      <th>furnishingDesc</th>\n",
       "      <th>parking</th>\n",
       "      <th>rent_amount</th>\n",
       "      <th>property_size</th>\n",
       "      <th>type_bhk</th>\n",
       "      <th>facing</th>\n",
       "      <th>floor</th>\n",
       "      <th>rent_per_sqft</th>\n",
       "    </tr>\n",
       "  </thead>\n",
       "  <tbody>\n",
       "    <tr>\n",
       "      <th>0</th>\n",
       "      <td>Gachibowli</td>\n",
       "      <td>3</td>\n",
       "      <td>3</td>\n",
       "      <td>Semi</td>\n",
       "      <td>BOTH</td>\n",
       "      <td>28000</td>\n",
       "      <td>2200</td>\n",
       "      <td>BHK3</td>\n",
       "      <td>W</td>\n",
       "      <td>3</td>\n",
       "      <td>12.727273</td>\n",
       "    </tr>\n",
       "    <tr>\n",
       "      <th>1</th>\n",
       "      <td>other</td>\n",
       "      <td>1</td>\n",
       "      <td>2</td>\n",
       "      <td>Unfurnished</td>\n",
       "      <td>TWO_WHEELER</td>\n",
       "      <td>15000</td>\n",
       "      <td>1200</td>\n",
       "      <td>BHK3</td>\n",
       "      <td>E</td>\n",
       "      <td>2</td>\n",
       "      <td>12.500000</td>\n",
       "    </tr>\n",
       "    <tr>\n",
       "      <th>2</th>\n",
       "      <td>Manikonda</td>\n",
       "      <td>3</td>\n",
       "      <td>3</td>\n",
       "      <td>Semi</td>\n",
       "      <td>BOTH</td>\n",
       "      <td>16000</td>\n",
       "      <td>1800</td>\n",
       "      <td>BHK3</td>\n",
       "      <td>E</td>\n",
       "      <td>0</td>\n",
       "      <td>8.888889</td>\n",
       "    </tr>\n",
       "    <tr>\n",
       "      <th>3</th>\n",
       "      <td>LB Nagar</td>\n",
       "      <td>1</td>\n",
       "      <td>2</td>\n",
       "      <td>Unfurnished</td>\n",
       "      <td>BOTH</td>\n",
       "      <td>9000</td>\n",
       "      <td>750</td>\n",
       "      <td>BHK2</td>\n",
       "      <td>W</td>\n",
       "      <td>2</td>\n",
       "      <td>12.000000</td>\n",
       "    </tr>\n",
       "    <tr>\n",
       "      <th>4</th>\n",
       "      <td>HITEC City</td>\n",
       "      <td>2</td>\n",
       "      <td>2</td>\n",
       "      <td>Semi</td>\n",
       "      <td>BOTH</td>\n",
       "      <td>32500</td>\n",
       "      <td>1250</td>\n",
       "      <td>BHK2</td>\n",
       "      <td>E</td>\n",
       "      <td>2</td>\n",
       "      <td>26.000000</td>\n",
       "    </tr>\n",
       "  </tbody>\n",
       "</table>\n",
       "</div>"
      ],
      "text/plain": [
       "     locality  balconies  bathroom furnishingDesc      parking  rent_amount  \\\n",
       "0  Gachibowli          3         3           Semi         BOTH        28000   \n",
       "1       other          1         2    Unfurnished  TWO_WHEELER        15000   \n",
       "2   Manikonda          3         3           Semi         BOTH        16000   \n",
       "3    LB Nagar          1         2    Unfurnished         BOTH         9000   \n",
       "4  HITEC City          2         2           Semi         BOTH        32500   \n",
       "\n",
       "   property_size type_bhk facing  floor  rent_per_sqft  \n",
       "0           2200     BHK3      W      3      12.727273  \n",
       "1           1200     BHK3      E      2      12.500000  \n",
       "2           1800     BHK3      E      0       8.888889  \n",
       "3            750     BHK2      W      2      12.000000  \n",
       "4           1250     BHK2      E      2      26.000000  "
      ]
     },
     "execution_count": 111,
     "metadata": {},
     "output_type": "execute_result"
    }
   ],
   "source": [
    "df3.locality = df3.locality.apply(lambda x: x.strip())\n",
    "df3.head()"
   ]
  },
  {
   "cell_type": "code",
   "execution_count": 117,
   "metadata": {},
   "outputs": [
    {
     "name": "stderr",
     "output_type": "stream",
     "text": [
      "/var/folders/fj/6bcxvpyx3_z_pgcq8hqml31w0000gn/T/ipykernel_4292/2173789963.py:1: SettingWithCopyWarning: \n",
      "A value is trying to be set on a copy of a slice from a DataFrame.\n",
      "Try using .loc[row_indexer,col_indexer] = value instead\n",
      "\n",
      "See the caveats in the documentation: https://pandas.pydata.org/pandas-docs/stable/user_guide/indexing.html#returning-a-view-versus-a-copy\n",
      "  df3.replace({'type_bhk':{'BHK3':3, 'BHK2':2, 'BHK1':1, 'BHK4':4, 'RK1':0.5, 'BHK4PLUS':5}}, inplace=True)\n",
      "/var/folders/fj/6bcxvpyx3_z_pgcq8hqml31w0000gn/T/ipykernel_4292/2173789963.py:2: SettingWithCopyWarning: \n",
      "A value is trying to be set on a copy of a slice from a DataFrame.\n",
      "Try using .loc[row_indexer,col_indexer] = value instead\n",
      "\n",
      "See the caveats in the documentation: https://pandas.pydata.org/pandas-docs/stable/user_guide/indexing.html#returning-a-view-versus-a-copy\n",
      "  df3.replace({'furnishingDesc':{'Semi':0.5, 'Unfurnished':0, 'Full':1}}, inplace=True)\n"
     ]
    },
    {
     "data": {
      "text/html": [
       "<div>\n",
       "<style scoped>\n",
       "    .dataframe tbody tr th:only-of-type {\n",
       "        vertical-align: middle;\n",
       "    }\n",
       "\n",
       "    .dataframe tbody tr th {\n",
       "        vertical-align: top;\n",
       "    }\n",
       "\n",
       "    .dataframe thead th {\n",
       "        text-align: right;\n",
       "    }\n",
       "</style>\n",
       "<table border=\"1\" class=\"dataframe\">\n",
       "  <thead>\n",
       "    <tr style=\"text-align: right;\">\n",
       "      <th></th>\n",
       "      <th>locality</th>\n",
       "      <th>balconies</th>\n",
       "      <th>bathroom</th>\n",
       "      <th>furnishingDesc</th>\n",
       "      <th>parking</th>\n",
       "      <th>rent_amount</th>\n",
       "      <th>property_size</th>\n",
       "      <th>type_bhk</th>\n",
       "      <th>facing</th>\n",
       "      <th>floor</th>\n",
       "      <th>rent_per_sqft</th>\n",
       "    </tr>\n",
       "  </thead>\n",
       "  <tbody>\n",
       "    <tr>\n",
       "      <th>0</th>\n",
       "      <td>Gachibowli</td>\n",
       "      <td>3</td>\n",
       "      <td>3</td>\n",
       "      <td>0.5</td>\n",
       "      <td>BOTH</td>\n",
       "      <td>28000</td>\n",
       "      <td>2200</td>\n",
       "      <td>3.0</td>\n",
       "      <td>W</td>\n",
       "      <td>3</td>\n",
       "      <td>12.727273</td>\n",
       "    </tr>\n",
       "    <tr>\n",
       "      <th>1</th>\n",
       "      <td>other</td>\n",
       "      <td>1</td>\n",
       "      <td>2</td>\n",
       "      <td>0.0</td>\n",
       "      <td>TWO_WHEELER</td>\n",
       "      <td>15000</td>\n",
       "      <td>1200</td>\n",
       "      <td>3.0</td>\n",
       "      <td>E</td>\n",
       "      <td>2</td>\n",
       "      <td>12.500000</td>\n",
       "    </tr>\n",
       "    <tr>\n",
       "      <th>2</th>\n",
       "      <td>Manikonda</td>\n",
       "      <td>3</td>\n",
       "      <td>3</td>\n",
       "      <td>0.5</td>\n",
       "      <td>BOTH</td>\n",
       "      <td>16000</td>\n",
       "      <td>1800</td>\n",
       "      <td>3.0</td>\n",
       "      <td>E</td>\n",
       "      <td>0</td>\n",
       "      <td>8.888889</td>\n",
       "    </tr>\n",
       "    <tr>\n",
       "      <th>3</th>\n",
       "      <td>LB Nagar</td>\n",
       "      <td>1</td>\n",
       "      <td>2</td>\n",
       "      <td>0.0</td>\n",
       "      <td>BOTH</td>\n",
       "      <td>9000</td>\n",
       "      <td>750</td>\n",
       "      <td>2.0</td>\n",
       "      <td>W</td>\n",
       "      <td>2</td>\n",
       "      <td>12.000000</td>\n",
       "    </tr>\n",
       "    <tr>\n",
       "      <th>4</th>\n",
       "      <td>HITEC City</td>\n",
       "      <td>2</td>\n",
       "      <td>2</td>\n",
       "      <td>0.5</td>\n",
       "      <td>BOTH</td>\n",
       "      <td>32500</td>\n",
       "      <td>1250</td>\n",
       "      <td>2.0</td>\n",
       "      <td>E</td>\n",
       "      <td>2</td>\n",
       "      <td>26.000000</td>\n",
       "    </tr>\n",
       "  </tbody>\n",
       "</table>\n",
       "</div>"
      ],
      "text/plain": [
       "     locality  balconies  bathroom  furnishingDesc      parking  rent_amount  \\\n",
       "0  Gachibowli          3         3             0.5         BOTH        28000   \n",
       "1       other          1         2             0.0  TWO_WHEELER        15000   \n",
       "2   Manikonda          3         3             0.5         BOTH        16000   \n",
       "3    LB Nagar          1         2             0.0         BOTH         9000   \n",
       "4  HITEC City          2         2             0.5         BOTH        32500   \n",
       "\n",
       "   property_size  type_bhk facing  floor  rent_per_sqft  \n",
       "0           2200       3.0      W      3      12.727273  \n",
       "1           1200       3.0      E      2      12.500000  \n",
       "2           1800       3.0      E      0       8.888889  \n",
       "3            750       2.0      W      2      12.000000  \n",
       "4           1250       2.0      E      2      26.000000  "
      ]
     },
     "execution_count": 117,
     "metadata": {},
     "output_type": "execute_result"
    }
   ],
   "source": [
    "df3.replace({'type_bhk':{'BHK3':3, 'BHK2':2, 'BHK1':1, 'BHK4':4, 'RK1':0.5, 'BHK4PLUS':5}}, inplace=True)\n",
    "df3.replace({'furnishingDesc':{'Semi':0.5, 'Unfurnished':0, 'Full':1}}, inplace=True)\n",
    "\n",
    "df3.head()"
   ]
  },
  {
   "cell_type": "markdown",
   "metadata": {},
   "source": [
    "# Outlier Detection"
   ]
  },
  {
   "cell_type": "markdown",
   "metadata": {},
   "source": [
    "## while detecting outliers there are many methods to detect and remove the outliers like \"Z-score\", \"boxplots\", \"percentile method\", \"Standard or Median absoulte devation\" or \"Domain Knowledge\". since so far it seems the data set is pretty, we will be avoiding all the above methods and use domain knowledge and try to find if there are any outliers. \n",
    "\n",
    "## first lets focus on the columns area & bedrooms. according to sources like \"RERA\", some construction regulations of India a typical of 300 & 400-500 square feet is required for a 1BHK. using this assusmption lets check if there are any unsual entires in our data set. i'm gonna use ' 300 SQ.FT ' "
   ]
  },
  {
   "cell_type": "code",
   "execution_count": 112,
   "metadata": {},
   "outputs": [
    {
     "data": {
      "text/plain": [
       "(19104, 11)"
      ]
     },
     "execution_count": 112,
     "metadata": {},
     "output_type": "execute_result"
    }
   ],
   "source": [
    "df3.shape"
   ]
  },
  {
   "cell_type": "code",
   "execution_count": 118,
   "metadata": {},
   "outputs": [
    {
     "name": "stdout",
     "output_type": "stream",
     "text": [
      "<class 'pandas.core.frame.DataFrame'>\n",
      "Int64Index: 19104 entries, 0 to 19109\n",
      "Data columns (total 11 columns):\n",
      " #   Column          Non-Null Count  Dtype  \n",
      "---  ------          --------------  -----  \n",
      " 0   locality        19104 non-null  object \n",
      " 1   balconies       19104 non-null  int64  \n",
      " 2   bathroom        19104 non-null  int64  \n",
      " 3   furnishingDesc  19104 non-null  float64\n",
      " 4   parking         19104 non-null  object \n",
      " 5   rent_amount     19104 non-null  int64  \n",
      " 6   property_size   19104 non-null  int64  \n",
      " 7   type_bhk        19104 non-null  float64\n",
      " 8   facing          19104 non-null  object \n",
      " 9   floor           19104 non-null  int64  \n",
      " 10  rent_per_sqft   19104 non-null  float64\n",
      "dtypes: float64(3), int64(5), object(3)\n",
      "memory usage: 1.7+ MB\n"
     ]
    }
   ],
   "source": [
    "df3.info()"
   ]
  },
  {
   "cell_type": "code",
   "execution_count": 119,
   "metadata": {},
   "outputs": [
    {
     "data": {
      "text/html": [
       "<div>\n",
       "<style scoped>\n",
       "    .dataframe tbody tr th:only-of-type {\n",
       "        vertical-align: middle;\n",
       "    }\n",
       "\n",
       "    .dataframe tbody tr th {\n",
       "        vertical-align: top;\n",
       "    }\n",
       "\n",
       "    .dataframe thead th {\n",
       "        text-align: right;\n",
       "    }\n",
       "</style>\n",
       "<table border=\"1\" class=\"dataframe\">\n",
       "  <thead>\n",
       "    <tr style=\"text-align: right;\">\n",
       "      <th></th>\n",
       "      <th>locality</th>\n",
       "      <th>balconies</th>\n",
       "      <th>bathroom</th>\n",
       "      <th>furnishingDesc</th>\n",
       "      <th>parking</th>\n",
       "      <th>rent_amount</th>\n",
       "      <th>property_size</th>\n",
       "      <th>type_bhk</th>\n",
       "      <th>facing</th>\n",
       "      <th>floor</th>\n",
       "      <th>rent_per_sqft</th>\n",
       "    </tr>\n",
       "  </thead>\n",
       "  <tbody>\n",
       "    <tr>\n",
       "      <th>0</th>\n",
       "      <td>Gachibowli</td>\n",
       "      <td>3</td>\n",
       "      <td>3</td>\n",
       "      <td>0.5</td>\n",
       "      <td>BOTH</td>\n",
       "      <td>28000</td>\n",
       "      <td>2200</td>\n",
       "      <td>3.0</td>\n",
       "      <td>W</td>\n",
       "      <td>3</td>\n",
       "      <td>12.727273</td>\n",
       "    </tr>\n",
       "    <tr>\n",
       "      <th>1</th>\n",
       "      <td>other</td>\n",
       "      <td>1</td>\n",
       "      <td>2</td>\n",
       "      <td>0.0</td>\n",
       "      <td>TWO_WHEELER</td>\n",
       "      <td>15000</td>\n",
       "      <td>1200</td>\n",
       "      <td>3.0</td>\n",
       "      <td>E</td>\n",
       "      <td>2</td>\n",
       "      <td>12.500000</td>\n",
       "    </tr>\n",
       "    <tr>\n",
       "      <th>2</th>\n",
       "      <td>Manikonda</td>\n",
       "      <td>3</td>\n",
       "      <td>3</td>\n",
       "      <td>0.5</td>\n",
       "      <td>BOTH</td>\n",
       "      <td>16000</td>\n",
       "      <td>1800</td>\n",
       "      <td>3.0</td>\n",
       "      <td>E</td>\n",
       "      <td>0</td>\n",
       "      <td>8.888889</td>\n",
       "    </tr>\n",
       "    <tr>\n",
       "      <th>3</th>\n",
       "      <td>LB Nagar</td>\n",
       "      <td>1</td>\n",
       "      <td>2</td>\n",
       "      <td>0.0</td>\n",
       "      <td>BOTH</td>\n",
       "      <td>9000</td>\n",
       "      <td>750</td>\n",
       "      <td>2.0</td>\n",
       "      <td>W</td>\n",
       "      <td>2</td>\n",
       "      <td>12.000000</td>\n",
       "    </tr>\n",
       "    <tr>\n",
       "      <th>4</th>\n",
       "      <td>HITEC City</td>\n",
       "      <td>2</td>\n",
       "      <td>2</td>\n",
       "      <td>0.5</td>\n",
       "      <td>BOTH</td>\n",
       "      <td>32500</td>\n",
       "      <td>1250</td>\n",
       "      <td>2.0</td>\n",
       "      <td>E</td>\n",
       "      <td>2</td>\n",
       "      <td>26.000000</td>\n",
       "    </tr>\n",
       "  </tbody>\n",
       "</table>\n",
       "</div>"
      ],
      "text/plain": [
       "     locality  balconies  bathroom  furnishingDesc      parking  rent_amount  \\\n",
       "0  Gachibowli          3         3             0.5         BOTH        28000   \n",
       "1       other          1         2             0.0  TWO_WHEELER        15000   \n",
       "2   Manikonda          3         3             0.5         BOTH        16000   \n",
       "3    LB Nagar          1         2             0.0         BOTH         9000   \n",
       "4  HITEC City          2         2             0.5         BOTH        32500   \n",
       "\n",
       "   property_size  type_bhk facing  floor  rent_per_sqft  \n",
       "0           2200       3.0      W      3      12.727273  \n",
       "1           1200       3.0      E      2      12.500000  \n",
       "2           1800       3.0      E      0       8.888889  \n",
       "3            750       2.0      W      2      12.000000  \n",
       "4           1250       2.0      E      2      26.000000  "
      ]
     },
     "execution_count": 119,
     "metadata": {},
     "output_type": "execute_result"
    }
   ],
   "source": [
    "df3.head()"
   ]
  },
  {
   "cell_type": "code",
   "execution_count": 116,
   "metadata": {},
   "outputs": [
    {
     "data": {
      "image/png": "[encoded data removed]",
      "text/plain": [
       "<Figure size 640x480 with 1 Axes>"
      ]
     },
     "metadata": {},
     "output_type": "display_data"
    }
   ],
   "source": [
    "sns.scatterplot(x=df3.property_size, y=df3.rent_amount);"
   ]
  },
  {
   "cell_type": "code",
   "execution_count": 120,
   "metadata": {},
   "outputs": [
    {
     "data": {
      "image/png": "[encoded data removed]",
      "text/plain": [
       "<Figure size 640x480 with 1 Axes>"
      ]
     },
     "metadata": {},
     "output_type": "display_data"
    }
   ],
   "source": [
    "sns.scatterplot(x=df3.type_bhk, y=df3.rent_amount);"
   ]
  },
  {
   "cell_type": "code",
   "execution_count": 124,
   "metadata": {},
   "outputs": [
    {
     "data": {
      "text/html": [
       "<div>\n",
       "<style scoped>\n",
       "    .dataframe tbody tr th:only-of-type {\n",
       "        vertical-align: middle;\n",
       "    }\n",
       "\n",
       "    .dataframe tbody tr th {\n",
       "        vertical-align: top;\n",
       "    }\n",
       "\n",
       "    .dataframe thead th {\n",
       "        text-align: right;\n",
       "    }\n",
       "</style>\n",
       "<table border=\"1\" class=\"dataframe\">\n",
       "  <thead>\n",
       "    <tr style=\"text-align: right;\">\n",
       "      <th></th>\n",
       "      <th>locality</th>\n",
       "      <th>balconies</th>\n",
       "      <th>bathroom</th>\n",
       "      <th>furnishingDesc</th>\n",
       "      <th>parking</th>\n",
       "      <th>rent_amount</th>\n",
       "      <th>property_size</th>\n",
       "      <th>type_bhk</th>\n",
       "      <th>facing</th>\n",
       "      <th>floor</th>\n",
       "      <th>rent_per_sqft</th>\n",
       "    </tr>\n",
       "  </thead>\n",
       "  <tbody>\n",
       "    <tr>\n",
       "      <th>582</th>\n",
       "      <td>Gachibowli</td>\n",
       "      <td>0</td>\n",
       "      <td>1</td>\n",
       "      <td>0.0</td>\n",
       "      <td>TWO_WHEELER</td>\n",
       "      <td>5000</td>\n",
       "      <td>100</td>\n",
       "      <td>0.5</td>\n",
       "      <td>None</td>\n",
       "      <td>0</td>\n",
       "      <td>50.000000</td>\n",
       "    </tr>\n",
       "    <tr>\n",
       "      <th>647</th>\n",
       "      <td>Miyapur</td>\n",
       "      <td>1</td>\n",
       "      <td>1</td>\n",
       "      <td>0.0</td>\n",
       "      <td>TWO_WHEELER</td>\n",
       "      <td>5500</td>\n",
       "      <td>144</td>\n",
       "      <td>0.5</td>\n",
       "      <td>W</td>\n",
       "      <td>1</td>\n",
       "      <td>38.194444</td>\n",
       "    </tr>\n",
       "    <tr>\n",
       "      <th>706</th>\n",
       "      <td>Jeedimetla</td>\n",
       "      <td>1</td>\n",
       "      <td>1</td>\n",
       "      <td>0.0</td>\n",
       "      <td>NONE</td>\n",
       "      <td>4000</td>\n",
       "      <td>100</td>\n",
       "      <td>0.5</td>\n",
       "      <td>E</td>\n",
       "      <td>1</td>\n",
       "      <td>40.000000</td>\n",
       "    </tr>\n",
       "    <tr>\n",
       "      <th>719</th>\n",
       "      <td>Begumpet</td>\n",
       "      <td>1</td>\n",
       "      <td>2</td>\n",
       "      <td>1.0</td>\n",
       "      <td>BOTH</td>\n",
       "      <td>25000</td>\n",
       "      <td>0</td>\n",
       "      <td>2.0</td>\n",
       "      <td>NE</td>\n",
       "      <td>6</td>\n",
       "      <td>inf</td>\n",
       "    </tr>\n",
       "    <tr>\n",
       "      <th>734</th>\n",
       "      <td>other</td>\n",
       "      <td>0</td>\n",
       "      <td>1</td>\n",
       "      <td>0.5</td>\n",
       "      <td>BOTH</td>\n",
       "      <td>10000</td>\n",
       "      <td>120</td>\n",
       "      <td>0.5</td>\n",
       "      <td>None</td>\n",
       "      <td>1</td>\n",
       "      <td>83.333333</td>\n",
       "    </tr>\n",
       "    <tr>\n",
       "      <th>...</th>\n",
       "      <td>...</td>\n",
       "      <td>...</td>\n",
       "      <td>...</td>\n",
       "      <td>...</td>\n",
       "      <td>...</td>\n",
       "      <td>...</td>\n",
       "      <td>...</td>\n",
       "      <td>...</td>\n",
       "      <td>...</td>\n",
       "      <td>...</td>\n",
       "      <td>...</td>\n",
       "    </tr>\n",
       "    <tr>\n",
       "      <th>18845</th>\n",
       "      <td>Miyapur</td>\n",
       "      <td>0</td>\n",
       "      <td>1</td>\n",
       "      <td>0.5</td>\n",
       "      <td>BOTH</td>\n",
       "      <td>8000</td>\n",
       "      <td>500</td>\n",
       "      <td>2.0</td>\n",
       "      <td>None</td>\n",
       "      <td>5</td>\n",
       "      <td>16.000000</td>\n",
       "    </tr>\n",
       "    <tr>\n",
       "      <th>18846</th>\n",
       "      <td>Secunderabad</td>\n",
       "      <td>1</td>\n",
       "      <td>1</td>\n",
       "      <td>0.5</td>\n",
       "      <td>TWO_WHEELER</td>\n",
       "      <td>5000</td>\n",
       "      <td>250</td>\n",
       "      <td>1.0</td>\n",
       "      <td>NE</td>\n",
       "      <td>0</td>\n",
       "      <td>20.000000</td>\n",
       "    </tr>\n",
       "    <tr>\n",
       "      <th>18937</th>\n",
       "      <td>Chanda Nagar</td>\n",
       "      <td>1</td>\n",
       "      <td>1</td>\n",
       "      <td>0.0</td>\n",
       "      <td>TWO_WHEELER</td>\n",
       "      <td>8000</td>\n",
       "      <td>200</td>\n",
       "      <td>1.0</td>\n",
       "      <td>E</td>\n",
       "      <td>2</td>\n",
       "      <td>40.000000</td>\n",
       "    </tr>\n",
       "    <tr>\n",
       "      <th>18977</th>\n",
       "      <td>other</td>\n",
       "      <td>2</td>\n",
       "      <td>2</td>\n",
       "      <td>0.0</td>\n",
       "      <td>BOTH</td>\n",
       "      <td>15000</td>\n",
       "      <td>400</td>\n",
       "      <td>2.0</td>\n",
       "      <td>N</td>\n",
       "      <td>1</td>\n",
       "      <td>37.500000</td>\n",
       "    </tr>\n",
       "    <tr>\n",
       "      <th>19020</th>\n",
       "      <td>other</td>\n",
       "      <td>2</td>\n",
       "      <td>2</td>\n",
       "      <td>0.5</td>\n",
       "      <td>BOTH</td>\n",
       "      <td>12000</td>\n",
       "      <td>0</td>\n",
       "      <td>3.0</td>\n",
       "      <td>E</td>\n",
       "      <td>1</td>\n",
       "      <td>inf</td>\n",
       "    </tr>\n",
       "  </tbody>\n",
       "</table>\n",
       "<p>349 rows × 11 columns</p>\n",
       "</div>"
      ],
      "text/plain": [
       "           locality  balconies  bathroom  furnishingDesc      parking  \\\n",
       "582      Gachibowli          0         1             0.0  TWO_WHEELER   \n",
       "647         Miyapur          1         1             0.0  TWO_WHEELER   \n",
       "706      Jeedimetla          1         1             0.0         NONE   \n",
       "719        Begumpet          1         2             1.0         BOTH   \n",
       "734           other          0         1             0.5         BOTH   \n",
       "...             ...        ...       ...             ...          ...   \n",
       "18845       Miyapur          0         1             0.5         BOTH   \n",
       "18846  Secunderabad          1         1             0.5  TWO_WHEELER   \n",
       "18937  Chanda Nagar          1         1             0.0  TWO_WHEELER   \n",
       "18977         other          2         2             0.0         BOTH   \n",
       "19020         other          2         2             0.5         BOTH   \n",
       "\n",
       "       rent_amount  property_size  type_bhk facing  floor  rent_per_sqft  \n",
       "582           5000            100       0.5   None      0      50.000000  \n",
       "647           5500            144       0.5      W      1      38.194444  \n",
       "706           4000            100       0.5      E      1      40.000000  \n",
       "719          25000              0       2.0     NE      6            inf  \n",
       "734          10000            120       0.5   None      1      83.333333  \n",
       "...            ...            ...       ...    ...    ...            ...  \n",
       "18845         8000            500       2.0   None      5      16.000000  \n",
       "18846         5000            250       1.0     NE      0      20.000000  \n",
       "18937         8000            200       1.0      E      2      40.000000  \n",
       "18977        15000            400       2.0      N      1      37.500000  \n",
       "19020        12000              0       3.0      E      1            inf  \n",
       "\n",
       "[349 rows x 11 columns]"
      ]
     },
     "execution_count": 124,
     "metadata": {},
     "output_type": "execute_result"
    }
   ],
   "source": [
    "df3[df3.property_size/df3.type_bhk<300]"
   ]
  },
  {
   "cell_type": "code",
   "execution_count": 125,
   "metadata": {},
   "outputs": [
    {
     "data": {
      "text/plain": [
       "349"
      ]
     },
     "execution_count": 125,
     "metadata": {},
     "output_type": "execute_result"
    }
   ],
   "source": [
    "len(df3[df3.property_size/df3.type_bhk<300])"
   ]
  },
  {
   "cell_type": "code",
   "execution_count": 126,
   "metadata": {},
   "outputs": [
    {
     "data": {
      "text/plain": [
       "(18755, 11)"
      ]
     },
     "execution_count": 126,
     "metadata": {},
     "output_type": "execute_result"
    }
   ],
   "source": [
    "df4 = df3[~(df3.property_size/df3.type_bhk<300)]\n",
    "df4.shape"
   ]
  },
  {
   "cell_type": "code",
   "execution_count": 127,
   "metadata": {},
   "outputs": [
    {
     "data": {
      "text/plain": [
       "count    18755.000000\n",
       "mean        14.520844\n",
       "std          6.085014\n",
       "min          0.000000\n",
       "25%         10.666667\n",
       "50%         13.500000\n",
       "75%         17.000000\n",
       "max        120.000000\n",
       "Name: rent_per_sqft, dtype: float64"
      ]
     },
     "execution_count": 127,
     "metadata": {},
     "output_type": "execute_result"
    }
   ],
   "source": [
    "df4.rent_per_sqft.describe()"
   ]
  },
  {
   "cell_type": "code",
   "execution_count": 129,
   "metadata": {},
   "outputs": [
    {
     "data": {
      "text/plain": [
       "(14629, 11)"
      ]
     },
     "execution_count": 129,
     "metadata": {},
     "output_type": "execute_result"
    }
   ],
   "source": [
    "def remove_rps_outliers(df):\n",
    "    df_out = pd.DataFrame()\n",
    "    for key,subdf in df.groupby('locality'):\n",
    "        m=np.mean(subdf.rent_per_sqft)\n",
    "        st=np.std(subdf.rent_per_sqft) \n",
    "        reduced_df=subdf[(subdf.rent_per_sqft>(m-st))&(subdf.rent_per_sqft<=(m+st))]\n",
    "        df_out=pd.concat([df_out,reduced_df],ignore_index=True)\n",
    "    return df_out\n",
    "\n",
    "df5= remove_rps_outliers(df4)\n",
    "df5.shape"
   ]
  },
  {
   "cell_type": "code",
   "execution_count": 137,
   "metadata": {},
   "outputs": [],
   "source": [
    "df5= df5[df5['balconies']<12]"
   ]
  },
  {
   "cell_type": "code",
   "execution_count": 140,
   "metadata": {},
   "outputs": [
    {
     "data": {
      "image/png": "[encoded data removed]",
      "text/plain": [
       "<Figure size 640x480 with 1 Axes>"
      ]
     },
     "metadata": {},
     "output_type": "display_data"
    }
   ],
   "source": [
    "plt.hist(df5.rent_per_sqft,rwidth=0.85)\n",
    "plt.xlabel('rent per sqft')\n",
    "plt.ylabel('count')\n",
    "\n",
    "plt.show()"
   ]
  },
  {
   "cell_type": "code",
   "execution_count": 142,
   "metadata": {},
   "outputs": [
    {
     "data": {
      "image/png": "[encoded data removed]",
      "text/plain": [
       "<Figure size 640x480 with 1 Axes>"
      ]
     },
     "metadata": {},
     "output_type": "display_data"
    }
   ],
   "source": [
    "plt.boxplot(df5.bathroom, vert=False, notch=True);"
   ]
  },
  {
   "cell_type": "code",
   "execution_count": 143,
   "metadata": {},
   "outputs": [
    {
     "data": {
      "text/plain": [
       "(14601, 11)"
      ]
     },
     "execution_count": 143,
     "metadata": {},
     "output_type": "execute_result"
    }
   ],
   "source": [
    "df5=df5[df5['bathroom']<= df5.type_bhk+1]\n",
    "df5.shape"
   ]
  },
  {
   "cell_type": "markdown",
   "metadata": {},
   "source": [
    "# Model Building"
   ]
  },
  {
   "cell_type": "code",
   "execution_count": 139,
   "metadata": {},
   "outputs": [
    {
     "data": {
      "text/html": [
       "<div>\n",
       "<style scoped>\n",
       "    .dataframe tbody tr th:only-of-type {\n",
       "        vertical-align: middle;\n",
       "    }\n",
       "\n",
       "    .dataframe tbody tr th {\n",
       "        vertical-align: top;\n",
       "    }\n",
       "\n",
       "    .dataframe thead th {\n",
       "        text-align: right;\n",
       "    }\n",
       "</style>\n",
       "<table border=\"1\" class=\"dataframe\">\n",
       "  <thead>\n",
       "    <tr style=\"text-align: right;\">\n",
       "      <th></th>\n",
       "      <th>locality</th>\n",
       "      <th>balconies</th>\n",
       "      <th>bathroom</th>\n",
       "      <th>furnishingDesc</th>\n",
       "      <th>parking</th>\n",
       "      <th>rent_amount</th>\n",
       "      <th>property_size</th>\n",
       "      <th>type_bhk</th>\n",
       "      <th>facing</th>\n",
       "      <th>floor</th>\n",
       "      <th>rent_per_sqft</th>\n",
       "    </tr>\n",
       "  </thead>\n",
       "  <tbody>\n",
       "    <tr>\n",
       "      <th>0</th>\n",
       "      <td>A S Rao Nagar</td>\n",
       "      <td>2</td>\n",
       "      <td>3</td>\n",
       "      <td>0.5</td>\n",
       "      <td>BOTH</td>\n",
       "      <td>21500</td>\n",
       "      <td>1600</td>\n",
       "      <td>3.0</td>\n",
       "      <td>E</td>\n",
       "      <td>2</td>\n",
       "      <td>13.437500</td>\n",
       "    </tr>\n",
       "    <tr>\n",
       "      <th>1</th>\n",
       "      <td>A S Rao Nagar</td>\n",
       "      <td>2</td>\n",
       "      <td>2</td>\n",
       "      <td>0.5</td>\n",
       "      <td>BOTH</td>\n",
       "      <td>10000</td>\n",
       "      <td>1100</td>\n",
       "      <td>2.0</td>\n",
       "      <td>E</td>\n",
       "      <td>2</td>\n",
       "      <td>9.090909</td>\n",
       "    </tr>\n",
       "    <tr>\n",
       "      <th>2</th>\n",
       "      <td>A S Rao Nagar</td>\n",
       "      <td>1</td>\n",
       "      <td>1</td>\n",
       "      <td>0.0</td>\n",
       "      <td>BOTH</td>\n",
       "      <td>5900</td>\n",
       "      <td>600</td>\n",
       "      <td>1.0</td>\n",
       "      <td>E</td>\n",
       "      <td>3</td>\n",
       "      <td>9.833333</td>\n",
       "    </tr>\n",
       "    <tr>\n",
       "      <th>3</th>\n",
       "      <td>A S Rao Nagar</td>\n",
       "      <td>1</td>\n",
       "      <td>1</td>\n",
       "      <td>0.0</td>\n",
       "      <td>BOTH</td>\n",
       "      <td>5900</td>\n",
       "      <td>600</td>\n",
       "      <td>1.0</td>\n",
       "      <td>E</td>\n",
       "      <td>3</td>\n",
       "      <td>9.833333</td>\n",
       "    </tr>\n",
       "    <tr>\n",
       "      <th>4</th>\n",
       "      <td>A S Rao Nagar</td>\n",
       "      <td>1</td>\n",
       "      <td>2</td>\n",
       "      <td>0.5</td>\n",
       "      <td>BOTH</td>\n",
       "      <td>17000</td>\n",
       "      <td>1600</td>\n",
       "      <td>3.0</td>\n",
       "      <td>W</td>\n",
       "      <td>0</td>\n",
       "      <td>10.625000</td>\n",
       "    </tr>\n",
       "  </tbody>\n",
       "</table>\n",
       "</div>"
      ],
      "text/plain": [
       "        locality  balconies  bathroom  furnishingDesc parking  rent_amount  \\\n",
       "0  A S Rao Nagar          2         3             0.5    BOTH        21500   \n",
       "1  A S Rao Nagar          2         2             0.5    BOTH        10000   \n",
       "2  A S Rao Nagar          1         1             0.0    BOTH         5900   \n",
       "3  A S Rao Nagar          1         1             0.0    BOTH         5900   \n",
       "4  A S Rao Nagar          1         2             0.5    BOTH        17000   \n",
       "\n",
       "   property_size  type_bhk facing  floor  rent_per_sqft  \n",
       "0           1600       3.0      E      2      13.437500  \n",
       "1           1100       2.0      E      2       9.090909  \n",
       "2            600       1.0      E      3       9.833333  \n",
       "3            600       1.0      E      3       9.833333  \n",
       "4           1600       3.0      W      0      10.625000  "
      ]
     },
     "execution_count": 139,
     "metadata": {},
     "output_type": "execute_result"
    }
   ],
   "source": [
    "df5.head()"
   ]
  },
  {
   "cell_type": "code",
   "execution_count": 144,
   "metadata": {},
   "outputs": [
    {
     "name": "stderr",
     "output_type": "stream",
     "text": [
      "/var/folders/fj/6bcxvpyx3_z_pgcq8hqml31w0000gn/T/ipykernel_4292/3435217854.py:1: SettingWithCopyWarning: \n",
      "A value is trying to be set on a copy of a slice from a DataFrame.\n",
      "Try using .loc[row_indexer,col_indexer] = value instead\n",
      "\n",
      "See the caveats in the documentation: https://pandas.pydata.org/pandas-docs/stable/user_guide/indexing.html#returning-a-view-versus-a-copy\n",
      "  df5.replace({'parking':{'BOTH':3, 'TWO_WHEELER':1, 'FOUR_WHEELER':2, 'NONE':0}}, inplace=True)\n"
     ]
    },
    {
     "data": {
      "text/html": [
       "<div>\n",
       "<style scoped>\n",
       "    .dataframe tbody tr th:only-of-type {\n",
       "        vertical-align: middle;\n",
       "    }\n",
       "\n",
       "    .dataframe tbody tr th {\n",
       "        vertical-align: top;\n",
       "    }\n",
       "\n",
       "    .dataframe thead th {\n",
       "        text-align: right;\n",
       "    }\n",
       "</style>\n",
       "<table border=\"1\" class=\"dataframe\">\n",
       "  <thead>\n",
       "    <tr style=\"text-align: right;\">\n",
       "      <th></th>\n",
       "      <th>locality</th>\n",
       "      <th>balconies</th>\n",
       "      <th>bathroom</th>\n",
       "      <th>furnishingDesc</th>\n",
       "      <th>parking</th>\n",
       "      <th>rent_amount</th>\n",
       "      <th>property_size</th>\n",
       "      <th>type_bhk</th>\n",
       "      <th>facing</th>\n",
       "      <th>floor</th>\n",
       "      <th>rent_per_sqft</th>\n",
       "    </tr>\n",
       "  </thead>\n",
       "  <tbody>\n",
       "    <tr>\n",
       "      <th>0</th>\n",
       "      <td>A S Rao Nagar</td>\n",
       "      <td>2</td>\n",
       "      <td>3</td>\n",
       "      <td>0.5</td>\n",
       "      <td>3</td>\n",
       "      <td>21500</td>\n",
       "      <td>1600</td>\n",
       "      <td>3.0</td>\n",
       "      <td>E</td>\n",
       "      <td>2</td>\n",
       "      <td>13.437500</td>\n",
       "    </tr>\n",
       "    <tr>\n",
       "      <th>1</th>\n",
       "      <td>A S Rao Nagar</td>\n",
       "      <td>2</td>\n",
       "      <td>2</td>\n",
       "      <td>0.5</td>\n",
       "      <td>3</td>\n",
       "      <td>10000</td>\n",
       "      <td>1100</td>\n",
       "      <td>2.0</td>\n",
       "      <td>E</td>\n",
       "      <td>2</td>\n",
       "      <td>9.090909</td>\n",
       "    </tr>\n",
       "    <tr>\n",
       "      <th>2</th>\n",
       "      <td>A S Rao Nagar</td>\n",
       "      <td>1</td>\n",
       "      <td>1</td>\n",
       "      <td>0.0</td>\n",
       "      <td>3</td>\n",
       "      <td>5900</td>\n",
       "      <td>600</td>\n",
       "      <td>1.0</td>\n",
       "      <td>E</td>\n",
       "      <td>3</td>\n",
       "      <td>9.833333</td>\n",
       "    </tr>\n",
       "    <tr>\n",
       "      <th>3</th>\n",
       "      <td>A S Rao Nagar</td>\n",
       "      <td>1</td>\n",
       "      <td>1</td>\n",
       "      <td>0.0</td>\n",
       "      <td>3</td>\n",
       "      <td>5900</td>\n",
       "      <td>600</td>\n",
       "      <td>1.0</td>\n",
       "      <td>E</td>\n",
       "      <td>3</td>\n",
       "      <td>9.833333</td>\n",
       "    </tr>\n",
       "    <tr>\n",
       "      <th>4</th>\n",
       "      <td>A S Rao Nagar</td>\n",
       "      <td>1</td>\n",
       "      <td>2</td>\n",
       "      <td>0.5</td>\n",
       "      <td>3</td>\n",
       "      <td>17000</td>\n",
       "      <td>1600</td>\n",
       "      <td>3.0</td>\n",
       "      <td>W</td>\n",
       "      <td>0</td>\n",
       "      <td>10.625000</td>\n",
       "    </tr>\n",
       "  </tbody>\n",
       "</table>\n",
       "</div>"
      ],
      "text/plain": [
       "        locality  balconies  bathroom  furnishingDesc  parking  rent_amount  \\\n",
       "0  A S Rao Nagar          2         3             0.5        3        21500   \n",
       "1  A S Rao Nagar          2         2             0.5        3        10000   \n",
       "2  A S Rao Nagar          1         1             0.0        3         5900   \n",
       "3  A S Rao Nagar          1         1             0.0        3         5900   \n",
       "4  A S Rao Nagar          1         2             0.5        3        17000   \n",
       "\n",
       "   property_size  type_bhk facing  floor  rent_per_sqft  \n",
       "0           1600       3.0      E      2      13.437500  \n",
       "1           1100       2.0      E      2       9.090909  \n",
       "2            600       1.0      E      3       9.833333  \n",
       "3            600       1.0      E      3       9.833333  \n",
       "4           1600       3.0      W      0      10.625000  "
      ]
     },
     "execution_count": 144,
     "metadata": {},
     "output_type": "execute_result"
    }
   ],
   "source": [
    "df5.replace({'parking':{'BOTH':3, 'TWO_WHEELER':1, 'FOUR_WHEELER':2, 'NONE':0}}, inplace=True)\n",
    "df5.head()"
   ]
  },
  {
   "cell_type": "code",
   "execution_count": 147,
   "metadata": {},
   "outputs": [
    {
     "data": {
      "text/html": [
       "<div>\n",
       "<style scoped>\n",
       "    .dataframe tbody tr th:only-of-type {\n",
       "        vertical-align: middle;\n",
       "    }\n",
       "\n",
       "    .dataframe tbody tr th {\n",
       "        vertical-align: top;\n",
       "    }\n",
       "\n",
       "    .dataframe thead th {\n",
       "        text-align: right;\n",
       "    }\n",
       "</style>\n",
       "<table border=\"1\" class=\"dataframe\">\n",
       "  <thead>\n",
       "    <tr style=\"text-align: right;\">\n",
       "      <th></th>\n",
       "      <th>locality</th>\n",
       "      <th>balconies</th>\n",
       "      <th>bathroom</th>\n",
       "      <th>furnishingDesc</th>\n",
       "      <th>parking</th>\n",
       "      <th>rent_amount</th>\n",
       "      <th>property_size</th>\n",
       "      <th>type_bhk</th>\n",
       "      <th>floor</th>\n",
       "      <th>rent_per_sqft</th>\n",
       "    </tr>\n",
       "  </thead>\n",
       "  <tbody>\n",
       "    <tr>\n",
       "      <th>0</th>\n",
       "      <td>A S Rao Nagar</td>\n",
       "      <td>2</td>\n",
       "      <td>3</td>\n",
       "      <td>0.5</td>\n",
       "      <td>3</td>\n",
       "      <td>21500</td>\n",
       "      <td>1600</td>\n",
       "      <td>3.0</td>\n",
       "      <td>2</td>\n",
       "      <td>13.437500</td>\n",
       "    </tr>\n",
       "    <tr>\n",
       "      <th>1</th>\n",
       "      <td>A S Rao Nagar</td>\n",
       "      <td>2</td>\n",
       "      <td>2</td>\n",
       "      <td>0.5</td>\n",
       "      <td>3</td>\n",
       "      <td>10000</td>\n",
       "      <td>1100</td>\n",
       "      <td>2.0</td>\n",
       "      <td>2</td>\n",
       "      <td>9.090909</td>\n",
       "    </tr>\n",
       "    <tr>\n",
       "      <th>2</th>\n",
       "      <td>A S Rao Nagar</td>\n",
       "      <td>1</td>\n",
       "      <td>1</td>\n",
       "      <td>0.0</td>\n",
       "      <td>3</td>\n",
       "      <td>5900</td>\n",
       "      <td>600</td>\n",
       "      <td>1.0</td>\n",
       "      <td>3</td>\n",
       "      <td>9.833333</td>\n",
       "    </tr>\n",
       "    <tr>\n",
       "      <th>3</th>\n",
       "      <td>A S Rao Nagar</td>\n",
       "      <td>1</td>\n",
       "      <td>1</td>\n",
       "      <td>0.0</td>\n",
       "      <td>3</td>\n",
       "      <td>5900</td>\n",
       "      <td>600</td>\n",
       "      <td>1.0</td>\n",
       "      <td>3</td>\n",
       "      <td>9.833333</td>\n",
       "    </tr>\n",
       "    <tr>\n",
       "      <th>4</th>\n",
       "      <td>A S Rao Nagar</td>\n",
       "      <td>1</td>\n",
       "      <td>2</td>\n",
       "      <td>0.5</td>\n",
       "      <td>3</td>\n",
       "      <td>17000</td>\n",
       "      <td>1600</td>\n",
       "      <td>3.0</td>\n",
       "      <td>0</td>\n",
       "      <td>10.625000</td>\n",
       "    </tr>\n",
       "  </tbody>\n",
       "</table>\n",
       "</div>"
      ],
      "text/plain": [
       "        locality  balconies  bathroom  furnishingDesc  parking  rent_amount  \\\n",
       "0  A S Rao Nagar          2         3             0.5        3        21500   \n",
       "1  A S Rao Nagar          2         2             0.5        3        10000   \n",
       "2  A S Rao Nagar          1         1             0.0        3         5900   \n",
       "3  A S Rao Nagar          1         1             0.0        3         5900   \n",
       "4  A S Rao Nagar          1         2             0.5        3        17000   \n",
       "\n",
       "   property_size  type_bhk  floor  rent_per_sqft  \n",
       "0           1600       3.0      2      13.437500  \n",
       "1           1100       2.0      2       9.090909  \n",
       "2            600       1.0      3       9.833333  \n",
       "3            600       1.0      3       9.833333  \n",
       "4           1600       3.0      0      10.625000  "
      ]
     },
     "execution_count": 147,
     "metadata": {},
     "output_type": "execute_result"
    }
   ],
   "source": [
    "df5 = df5.drop(columns='facing')\n",
    "df5.head()"
   ]
  },
  {
   "cell_type": "code",
   "execution_count": 148,
   "metadata": {},
   "outputs": [
    {
     "data": {
      "text/html": [
       "<div>\n",
       "<style scoped>\n",
       "    .dataframe tbody tr th:only-of-type {\n",
       "        vertical-align: middle;\n",
       "    }\n",
       "\n",
       "    .dataframe tbody tr th {\n",
       "        vertical-align: top;\n",
       "    }\n",
       "\n",
       "    .dataframe thead th {\n",
       "        text-align: right;\n",
       "    }\n",
       "</style>\n",
       "<table border=\"1\" class=\"dataframe\">\n",
       "  <thead>\n",
       "    <tr style=\"text-align: right;\">\n",
       "      <th></th>\n",
       "      <th>locality</th>\n",
       "      <th>balconies</th>\n",
       "      <th>bathroom</th>\n",
       "      <th>furnishingDesc</th>\n",
       "      <th>parking</th>\n",
       "      <th>rent_amount</th>\n",
       "      <th>property_size</th>\n",
       "      <th>type_bhk</th>\n",
       "      <th>floor</th>\n",
       "      <th>rent_per_sqft</th>\n",
       "    </tr>\n",
       "  </thead>\n",
       "  <tbody>\n",
       "    <tr>\n",
       "      <th>0</th>\n",
       "      <td>A S Rao Nagar</td>\n",
       "      <td>2</td>\n",
       "      <td>3</td>\n",
       "      <td>0.5</td>\n",
       "      <td>3</td>\n",
       "      <td>21500</td>\n",
       "      <td>1600</td>\n",
       "      <td>3.0</td>\n",
       "      <td>2</td>\n",
       "      <td>13.437500</td>\n",
       "    </tr>\n",
       "    <tr>\n",
       "      <th>1</th>\n",
       "      <td>A S Rao Nagar</td>\n",
       "      <td>2</td>\n",
       "      <td>2</td>\n",
       "      <td>0.5</td>\n",
       "      <td>3</td>\n",
       "      <td>10000</td>\n",
       "      <td>1100</td>\n",
       "      <td>2.0</td>\n",
       "      <td>2</td>\n",
       "      <td>9.090909</td>\n",
       "    </tr>\n",
       "    <tr>\n",
       "      <th>2</th>\n",
       "      <td>A S Rao Nagar</td>\n",
       "      <td>1</td>\n",
       "      <td>1</td>\n",
       "      <td>0.0</td>\n",
       "      <td>3</td>\n",
       "      <td>5900</td>\n",
       "      <td>600</td>\n",
       "      <td>1.0</td>\n",
       "      <td>3</td>\n",
       "      <td>9.833333</td>\n",
       "    </tr>\n",
       "    <tr>\n",
       "      <th>3</th>\n",
       "      <td>A S Rao Nagar</td>\n",
       "      <td>1</td>\n",
       "      <td>1</td>\n",
       "      <td>0.0</td>\n",
       "      <td>3</td>\n",
       "      <td>5900</td>\n",
       "      <td>600</td>\n",
       "      <td>1.0</td>\n",
       "      <td>3</td>\n",
       "      <td>9.833333</td>\n",
       "    </tr>\n",
       "    <tr>\n",
       "      <th>4</th>\n",
       "      <td>A S Rao Nagar</td>\n",
       "      <td>1</td>\n",
       "      <td>2</td>\n",
       "      <td>0.5</td>\n",
       "      <td>3</td>\n",
       "      <td>17000</td>\n",
       "      <td>1600</td>\n",
       "      <td>3.0</td>\n",
       "      <td>0</td>\n",
       "      <td>10.625000</td>\n",
       "    </tr>\n",
       "  </tbody>\n",
       "</table>\n",
       "</div>"
      ],
      "text/plain": [
       "        locality  balconies  bathroom  furnishingDesc  parking  rent_amount  \\\n",
       "0  A S Rao Nagar          2         3             0.5        3        21500   \n",
       "1  A S Rao Nagar          2         2             0.5        3        10000   \n",
       "2  A S Rao Nagar          1         1             0.0        3         5900   \n",
       "3  A S Rao Nagar          1         1             0.0        3         5900   \n",
       "4  A S Rao Nagar          1         2             0.5        3        17000   \n",
       "\n",
       "   property_size  type_bhk  floor  rent_per_sqft  \n",
       "0           1600       3.0      2      13.437500  \n",
       "1           1100       2.0      2       9.090909  \n",
       "2            600       1.0      3       9.833333  \n",
       "3            600       1.0      3       9.833333  \n",
       "4           1600       3.0      0      10.625000  "
      ]
     },
     "execution_count": 148,
     "metadata": {},
     "output_type": "execute_result"
    }
   ],
   "source": [
    "df6 = df5.copy()\n",
    "df6.head()"
   ]
  },
  {
   "cell_type": "code",
   "execution_count": 149,
   "metadata": {},
   "outputs": [
    {
     "data": {
      "text/html": [
       "<div>\n",
       "<style scoped>\n",
       "    .dataframe tbody tr th:only-of-type {\n",
       "        vertical-align: middle;\n",
       "    }\n",
       "\n",
       "    .dataframe tbody tr th {\n",
       "        vertical-align: top;\n",
       "    }\n",
       "\n",
       "    .dataframe thead th {\n",
       "        text-align: right;\n",
       "    }\n",
       "</style>\n",
       "<table border=\"1\" class=\"dataframe\">\n",
       "  <thead>\n",
       "    <tr style=\"text-align: right;\">\n",
       "      <th></th>\n",
       "      <th>A S Rao Nagar</th>\n",
       "      <th>A. S. Rao Nagar</th>\n",
       "      <th>Adibatla</th>\n",
       "      <th>Adikmet</th>\n",
       "      <th>Almasguda</th>\n",
       "      <th>Alwal</th>\n",
       "      <th>Amberpet</th>\n",
       "      <th>Ameenpur</th>\n",
       "      <th>Ameerpet</th>\n",
       "      <th>Annojiguda</th>\n",
       "      <th>...</th>\n",
       "      <th>West Marredpally</th>\n",
       "      <th>Whisper Valley</th>\n",
       "      <th>Whitefields</th>\n",
       "      <th>Yapral</th>\n",
       "      <th>Yella Reddy Guda</th>\n",
       "      <th>Yousufguda</th>\n",
       "      <th>Zamistanpur</th>\n",
       "      <th>kondapur</th>\n",
       "      <th>kukatpally</th>\n",
       "      <th>other</th>\n",
       "    </tr>\n",
       "  </thead>\n",
       "  <tbody>\n",
       "    <tr>\n",
       "      <th>0</th>\n",
       "      <td>1</td>\n",
       "      <td>0</td>\n",
       "      <td>0</td>\n",
       "      <td>0</td>\n",
       "      <td>0</td>\n",
       "      <td>0</td>\n",
       "      <td>0</td>\n",
       "      <td>0</td>\n",
       "      <td>0</td>\n",
       "      <td>0</td>\n",
       "      <td>...</td>\n",
       "      <td>0</td>\n",
       "      <td>0</td>\n",
       "      <td>0</td>\n",
       "      <td>0</td>\n",
       "      <td>0</td>\n",
       "      <td>0</td>\n",
       "      <td>0</td>\n",
       "      <td>0</td>\n",
       "      <td>0</td>\n",
       "      <td>0</td>\n",
       "    </tr>\n",
       "    <tr>\n",
       "      <th>1</th>\n",
       "      <td>1</td>\n",
       "      <td>0</td>\n",
       "      <td>0</td>\n",
       "      <td>0</td>\n",
       "      <td>0</td>\n",
       "      <td>0</td>\n",
       "      <td>0</td>\n",
       "      <td>0</td>\n",
       "      <td>0</td>\n",
       "      <td>0</td>\n",
       "      <td>...</td>\n",
       "      <td>0</td>\n",
       "      <td>0</td>\n",
       "      <td>0</td>\n",
       "      <td>0</td>\n",
       "      <td>0</td>\n",
       "      <td>0</td>\n",
       "      <td>0</td>\n",
       "      <td>0</td>\n",
       "      <td>0</td>\n",
       "      <td>0</td>\n",
       "    </tr>\n",
       "    <tr>\n",
       "      <th>2</th>\n",
       "      <td>1</td>\n",
       "      <td>0</td>\n",
       "      <td>0</td>\n",
       "      <td>0</td>\n",
       "      <td>0</td>\n",
       "      <td>0</td>\n",
       "      <td>0</td>\n",
       "      <td>0</td>\n",
       "      <td>0</td>\n",
       "      <td>0</td>\n",
       "      <td>...</td>\n",
       "      <td>0</td>\n",
       "      <td>0</td>\n",
       "      <td>0</td>\n",
       "      <td>0</td>\n",
       "      <td>0</td>\n",
       "      <td>0</td>\n",
       "      <td>0</td>\n",
       "      <td>0</td>\n",
       "      <td>0</td>\n",
       "      <td>0</td>\n",
       "    </tr>\n",
       "    <tr>\n",
       "      <th>3</th>\n",
       "      <td>1</td>\n",
       "      <td>0</td>\n",
       "      <td>0</td>\n",
       "      <td>0</td>\n",
       "      <td>0</td>\n",
       "      <td>0</td>\n",
       "      <td>0</td>\n",
       "      <td>0</td>\n",
       "      <td>0</td>\n",
       "      <td>0</td>\n",
       "      <td>...</td>\n",
       "      <td>0</td>\n",
       "      <td>0</td>\n",
       "      <td>0</td>\n",
       "      <td>0</td>\n",
       "      <td>0</td>\n",
       "      <td>0</td>\n",
       "      <td>0</td>\n",
       "      <td>0</td>\n",
       "      <td>0</td>\n",
       "      <td>0</td>\n",
       "    </tr>\n",
       "    <tr>\n",
       "      <th>4</th>\n",
       "      <td>1</td>\n",
       "      <td>0</td>\n",
       "      <td>0</td>\n",
       "      <td>0</td>\n",
       "      <td>0</td>\n",
       "      <td>0</td>\n",
       "      <td>0</td>\n",
       "      <td>0</td>\n",
       "      <td>0</td>\n",
       "      <td>0</td>\n",
       "      <td>...</td>\n",
       "      <td>0</td>\n",
       "      <td>0</td>\n",
       "      <td>0</td>\n",
       "      <td>0</td>\n",
       "      <td>0</td>\n",
       "      <td>0</td>\n",
       "      <td>0</td>\n",
       "      <td>0</td>\n",
       "      <td>0</td>\n",
       "      <td>0</td>\n",
       "    </tr>\n",
       "  </tbody>\n",
       "</table>\n",
       "<p>5 rows × 196 columns</p>\n",
       "</div>"
      ],
      "text/plain": [
       "   A S Rao Nagar  A. S. Rao Nagar  Adibatla  Adikmet  Almasguda  Alwal  \\\n",
       "0              1                0         0        0          0      0   \n",
       "1              1                0         0        0          0      0   \n",
       "2              1                0         0        0          0      0   \n",
       "3              1                0         0        0          0      0   \n",
       "4              1                0         0        0          0      0   \n",
       "\n",
       "   Amberpet  Ameenpur  Ameerpet  Annojiguda  ...  West Marredpally  \\\n",
       "0         0         0         0           0  ...                 0   \n",
       "1         0         0         0           0  ...                 0   \n",
       "2         0         0         0           0  ...                 0   \n",
       "3         0         0         0           0  ...                 0   \n",
       "4         0         0         0           0  ...                 0   \n",
       "\n",
       "   Whisper Valley  Whitefields  Yapral  Yella Reddy Guda  Yousufguda  \\\n",
       "0               0            0       0                 0           0   \n",
       "1               0            0       0                 0           0   \n",
       "2               0            0       0                 0           0   \n",
       "3               0            0       0                 0           0   \n",
       "4               0            0       0                 0           0   \n",
       "\n",
       "   Zamistanpur  kondapur  kukatpally  other  \n",
       "0            0         0           0      0  \n",
       "1            0         0           0      0  \n",
       "2            0         0           0      0  \n",
       "3            0         0           0      0  \n",
       "4            0         0           0      0  \n",
       "\n",
       "[5 rows x 196 columns]"
      ]
     },
     "execution_count": 149,
     "metadata": {},
     "output_type": "execute_result"
    }
   ],
   "source": [
    "one_hot_encode = pd.get_dummies(df6.locality)\n",
    "one_hot_encode.head()"
   ]
  },
  {
   "cell_type": "code",
   "execution_count": 151,
   "metadata": {},
   "outputs": [
    {
     "data": {
      "text/html": [
       "<div>\n",
       "<style scoped>\n",
       "    .dataframe tbody tr th:only-of-type {\n",
       "        vertical-align: middle;\n",
       "    }\n",
       "\n",
       "    .dataframe tbody tr th {\n",
       "        vertical-align: top;\n",
       "    }\n",
       "\n",
       "    .dataframe thead th {\n",
       "        text-align: right;\n",
       "    }\n",
       "</style>\n",
       "<table border=\"1\" class=\"dataframe\">\n",
       "  <thead>\n",
       "    <tr style=\"text-align: right;\">\n",
       "      <th></th>\n",
       "      <th>locality</th>\n",
       "      <th>balconies</th>\n",
       "      <th>bathroom</th>\n",
       "      <th>furnishingDesc</th>\n",
       "      <th>parking</th>\n",
       "      <th>rent_amount</th>\n",
       "      <th>property_size</th>\n",
       "      <th>type_bhk</th>\n",
       "      <th>floor</th>\n",
       "      <th>rent_per_sqft</th>\n",
       "      <th>...</th>\n",
       "      <th>Warasiguda</th>\n",
       "      <th>West Marredpally</th>\n",
       "      <th>Whisper Valley</th>\n",
       "      <th>Whitefields</th>\n",
       "      <th>Yapral</th>\n",
       "      <th>Yella Reddy Guda</th>\n",
       "      <th>Yousufguda</th>\n",
       "      <th>Zamistanpur</th>\n",
       "      <th>kondapur</th>\n",
       "      <th>kukatpally</th>\n",
       "    </tr>\n",
       "  </thead>\n",
       "  <tbody>\n",
       "    <tr>\n",
       "      <th>0</th>\n",
       "      <td>A S Rao Nagar</td>\n",
       "      <td>2</td>\n",
       "      <td>3</td>\n",
       "      <td>0.5</td>\n",
       "      <td>3</td>\n",
       "      <td>21500</td>\n",
       "      <td>1600</td>\n",
       "      <td>3.0</td>\n",
       "      <td>2</td>\n",
       "      <td>13.437500</td>\n",
       "      <td>...</td>\n",
       "      <td>0</td>\n",
       "      <td>0</td>\n",
       "      <td>0</td>\n",
       "      <td>0</td>\n",
       "      <td>0</td>\n",
       "      <td>0</td>\n",
       "      <td>0</td>\n",
       "      <td>0</td>\n",
       "      <td>0</td>\n",
       "      <td>0</td>\n",
       "    </tr>\n",
       "    <tr>\n",
       "      <th>1</th>\n",
       "      <td>A S Rao Nagar</td>\n",
       "      <td>2</td>\n",
       "      <td>2</td>\n",
       "      <td>0.5</td>\n",
       "      <td>3</td>\n",
       "      <td>10000</td>\n",
       "      <td>1100</td>\n",
       "      <td>2.0</td>\n",
       "      <td>2</td>\n",
       "      <td>9.090909</td>\n",
       "      <td>...</td>\n",
       "      <td>0</td>\n",
       "      <td>0</td>\n",
       "      <td>0</td>\n",
       "      <td>0</td>\n",
       "      <td>0</td>\n",
       "      <td>0</td>\n",
       "      <td>0</td>\n",
       "      <td>0</td>\n",
       "      <td>0</td>\n",
       "      <td>0</td>\n",
       "    </tr>\n",
       "    <tr>\n",
       "      <th>2</th>\n",
       "      <td>A S Rao Nagar</td>\n",
       "      <td>1</td>\n",
       "      <td>1</td>\n",
       "      <td>0.0</td>\n",
       "      <td>3</td>\n",
       "      <td>5900</td>\n",
       "      <td>600</td>\n",
       "      <td>1.0</td>\n",
       "      <td>3</td>\n",
       "      <td>9.833333</td>\n",
       "      <td>...</td>\n",
       "      <td>0</td>\n",
       "      <td>0</td>\n",
       "      <td>0</td>\n",
       "      <td>0</td>\n",
       "      <td>0</td>\n",
       "      <td>0</td>\n",
       "      <td>0</td>\n",
       "      <td>0</td>\n",
       "      <td>0</td>\n",
       "      <td>0</td>\n",
       "    </tr>\n",
       "    <tr>\n",
       "      <th>3</th>\n",
       "      <td>A S Rao Nagar</td>\n",
       "      <td>1</td>\n",
       "      <td>1</td>\n",
       "      <td>0.0</td>\n",
       "      <td>3</td>\n",
       "      <td>5900</td>\n",
       "      <td>600</td>\n",
       "      <td>1.0</td>\n",
       "      <td>3</td>\n",
       "      <td>9.833333</td>\n",
       "      <td>...</td>\n",
       "      <td>0</td>\n",
       "      <td>0</td>\n",
       "      <td>0</td>\n",
       "      <td>0</td>\n",
       "      <td>0</td>\n",
       "      <td>0</td>\n",
       "      <td>0</td>\n",
       "      <td>0</td>\n",
       "      <td>0</td>\n",
       "      <td>0</td>\n",
       "    </tr>\n",
       "    <tr>\n",
       "      <th>4</th>\n",
       "      <td>A S Rao Nagar</td>\n",
       "      <td>1</td>\n",
       "      <td>2</td>\n",
       "      <td>0.5</td>\n",
       "      <td>3</td>\n",
       "      <td>17000</td>\n",
       "      <td>1600</td>\n",
       "      <td>3.0</td>\n",
       "      <td>0</td>\n",
       "      <td>10.625000</td>\n",
       "      <td>...</td>\n",
       "      <td>0</td>\n",
       "      <td>0</td>\n",
       "      <td>0</td>\n",
       "      <td>0</td>\n",
       "      <td>0</td>\n",
       "      <td>0</td>\n",
       "      <td>0</td>\n",
       "      <td>0</td>\n",
       "      <td>0</td>\n",
       "      <td>0</td>\n",
       "    </tr>\n",
       "  </tbody>\n",
       "</table>\n",
       "<p>5 rows × 205 columns</p>\n",
       "</div>"
      ],
      "text/plain": [
       "        locality  balconies  bathroom  furnishingDesc  parking  rent_amount  \\\n",
       "0  A S Rao Nagar          2         3             0.5        3        21500   \n",
       "1  A S Rao Nagar          2         2             0.5        3        10000   \n",
       "2  A S Rao Nagar          1         1             0.0        3         5900   \n",
       "3  A S Rao Nagar          1         1             0.0        3         5900   \n",
       "4  A S Rao Nagar          1         2             0.5        3        17000   \n",
       "\n",
       "   property_size  type_bhk  floor  rent_per_sqft  ...  Warasiguda  \\\n",
       "0           1600       3.0      2      13.437500  ...           0   \n",
       "1           1100       2.0      2       9.090909  ...           0   \n",
       "2            600       1.0      3       9.833333  ...           0   \n",
       "3            600       1.0      3       9.833333  ...           0   \n",
       "4           1600       3.0      0      10.625000  ...           0   \n",
       "\n",
       "   West Marredpally  Whisper Valley  Whitefields  Yapral  Yella Reddy Guda  \\\n",
       "0                 0               0            0       0                 0   \n",
       "1                 0               0            0       0                 0   \n",
       "2                 0               0            0       0                 0   \n",
       "3                 0               0            0       0                 0   \n",
       "4                 0               0            0       0                 0   \n",
       "\n",
       "   Yousufguda  Zamistanpur  kondapur  kukatpally  \n",
       "0           0            0         0           0  \n",
       "1           0            0         0           0  \n",
       "2           0            0         0           0  \n",
       "3           0            0         0           0  \n",
       "4           0            0         0           0  \n",
       "\n",
       "[5 rows x 205 columns]"
      ]
     },
     "execution_count": 151,
     "metadata": {},
     "output_type": "execute_result"
    }
   ],
   "source": [
    "df7 = pd.concat([df6, one_hot_encode.drop('other', axis='columns')], axis='columns')\n",
    "df7.head()"
   ]
  },
  {
   "cell_type": "code",
   "execution_count": 153,
   "metadata": {},
   "outputs": [
    {
     "data": {
      "text/plain": [
       "(14601, 205)"
      ]
     },
     "execution_count": 153,
     "metadata": {},
     "output_type": "execute_result"
    }
   ],
   "source": [
    "df7.shape"
   ]
  },
  {
   "cell_type": "code",
   "execution_count": 154,
   "metadata": {},
   "outputs": [
    {
     "data": {
      "text/plain": [
       "(14601, 204)"
      ]
     },
     "execution_count": 154,
     "metadata": {},
     "output_type": "execute_result"
    }
   ],
   "source": [
    "df7 = df7.drop(columns='locality')\n",
    "df7.shape"
   ]
  },
  {
   "cell_type": "code",
   "execution_count": 157,
   "metadata": {},
   "outputs": [
    {
     "data": {
      "text/html": [
       "<div>\n",
       "<style scoped>\n",
       "    .dataframe tbody tr th:only-of-type {\n",
       "        vertical-align: middle;\n",
       "    }\n",
       "\n",
       "    .dataframe tbody tr th {\n",
       "        vertical-align: top;\n",
       "    }\n",
       "\n",
       "    .dataframe thead th {\n",
       "        text-align: right;\n",
       "    }\n",
       "</style>\n",
       "<table border=\"1\" class=\"dataframe\">\n",
       "  <thead>\n",
       "    <tr style=\"text-align: right;\">\n",
       "      <th></th>\n",
       "      <th>balconies</th>\n",
       "      <th>bathroom</th>\n",
       "      <th>furnishingDesc</th>\n",
       "      <th>parking</th>\n",
       "      <th>property_size</th>\n",
       "      <th>type_bhk</th>\n",
       "      <th>floor</th>\n",
       "      <th>rent_per_sqft</th>\n",
       "      <th>A S Rao Nagar</th>\n",
       "      <th>A. S. Rao Nagar</th>\n",
       "      <th>...</th>\n",
       "      <th>Warasiguda</th>\n",
       "      <th>West Marredpally</th>\n",
       "      <th>Whisper Valley</th>\n",
       "      <th>Whitefields</th>\n",
       "      <th>Yapral</th>\n",
       "      <th>Yella Reddy Guda</th>\n",
       "      <th>Yousufguda</th>\n",
       "      <th>Zamistanpur</th>\n",
       "      <th>kondapur</th>\n",
       "      <th>kukatpally</th>\n",
       "    </tr>\n",
       "  </thead>\n",
       "  <tbody>\n",
       "    <tr>\n",
       "      <th>0</th>\n",
       "      <td>2</td>\n",
       "      <td>3</td>\n",
       "      <td>0.5</td>\n",
       "      <td>3</td>\n",
       "      <td>1600</td>\n",
       "      <td>3.0</td>\n",
       "      <td>2</td>\n",
       "      <td>13.437500</td>\n",
       "      <td>1</td>\n",
       "      <td>0</td>\n",
       "      <td>...</td>\n",
       "      <td>0</td>\n",
       "      <td>0</td>\n",
       "      <td>0</td>\n",
       "      <td>0</td>\n",
       "      <td>0</td>\n",
       "      <td>0</td>\n",
       "      <td>0</td>\n",
       "      <td>0</td>\n",
       "      <td>0</td>\n",
       "      <td>0</td>\n",
       "    </tr>\n",
       "    <tr>\n",
       "      <th>1</th>\n",
       "      <td>2</td>\n",
       "      <td>2</td>\n",
       "      <td>0.5</td>\n",
       "      <td>3</td>\n",
       "      <td>1100</td>\n",
       "      <td>2.0</td>\n",
       "      <td>2</td>\n",
       "      <td>9.090909</td>\n",
       "      <td>1</td>\n",
       "      <td>0</td>\n",
       "      <td>...</td>\n",
       "      <td>0</td>\n",
       "      <td>0</td>\n",
       "      <td>0</td>\n",
       "      <td>0</td>\n",
       "      <td>0</td>\n",
       "      <td>0</td>\n",
       "      <td>0</td>\n",
       "      <td>0</td>\n",
       "      <td>0</td>\n",
       "      <td>0</td>\n",
       "    </tr>\n",
       "    <tr>\n",
       "      <th>2</th>\n",
       "      <td>1</td>\n",
       "      <td>1</td>\n",
       "      <td>0.0</td>\n",
       "      <td>3</td>\n",
       "      <td>600</td>\n",
       "      <td>1.0</td>\n",
       "      <td>3</td>\n",
       "      <td>9.833333</td>\n",
       "      <td>1</td>\n",
       "      <td>0</td>\n",
       "      <td>...</td>\n",
       "      <td>0</td>\n",
       "      <td>0</td>\n",
       "      <td>0</td>\n",
       "      <td>0</td>\n",
       "      <td>0</td>\n",
       "      <td>0</td>\n",
       "      <td>0</td>\n",
       "      <td>0</td>\n",
       "      <td>0</td>\n",
       "      <td>0</td>\n",
       "    </tr>\n",
       "    <tr>\n",
       "      <th>3</th>\n",
       "      <td>1</td>\n",
       "      <td>1</td>\n",
       "      <td>0.0</td>\n",
       "      <td>3</td>\n",
       "      <td>600</td>\n",
       "      <td>1.0</td>\n",
       "      <td>3</td>\n",
       "      <td>9.833333</td>\n",
       "      <td>1</td>\n",
       "      <td>0</td>\n",
       "      <td>...</td>\n",
       "      <td>0</td>\n",
       "      <td>0</td>\n",
       "      <td>0</td>\n",
       "      <td>0</td>\n",
       "      <td>0</td>\n",
       "      <td>0</td>\n",
       "      <td>0</td>\n",
       "      <td>0</td>\n",
       "      <td>0</td>\n",
       "      <td>0</td>\n",
       "    </tr>\n",
       "    <tr>\n",
       "      <th>4</th>\n",
       "      <td>1</td>\n",
       "      <td>2</td>\n",
       "      <td>0.5</td>\n",
       "      <td>3</td>\n",
       "      <td>1600</td>\n",
       "      <td>3.0</td>\n",
       "      <td>0</td>\n",
       "      <td>10.625000</td>\n",
       "      <td>1</td>\n",
       "      <td>0</td>\n",
       "      <td>...</td>\n",
       "      <td>0</td>\n",
       "      <td>0</td>\n",
       "      <td>0</td>\n",
       "      <td>0</td>\n",
       "      <td>0</td>\n",
       "      <td>0</td>\n",
       "      <td>0</td>\n",
       "      <td>0</td>\n",
       "      <td>0</td>\n",
       "      <td>0</td>\n",
       "    </tr>\n",
       "  </tbody>\n",
       "</table>\n",
       "<p>5 rows × 203 columns</p>\n",
       "</div>"
      ],
      "text/plain": [
       "   balconies  bathroom  furnishingDesc  parking  property_size  type_bhk  \\\n",
       "0          2         3             0.5        3           1600       3.0   \n",
       "1          2         2             0.5        3           1100       2.0   \n",
       "2          1         1             0.0        3            600       1.0   \n",
       "3          1         1             0.0        3            600       1.0   \n",
       "4          1         2             0.5        3           1600       3.0   \n",
       "\n",
       "   floor  rent_per_sqft  A S Rao Nagar  A. S. Rao Nagar  ...  Warasiguda  \\\n",
       "0      2      13.437500              1                0  ...           0   \n",
       "1      2       9.090909              1                0  ...           0   \n",
       "2      3       9.833333              1                0  ...           0   \n",
       "3      3       9.833333              1                0  ...           0   \n",
       "4      0      10.625000              1                0  ...           0   \n",
       "\n",
       "   West Marredpally  Whisper Valley  Whitefields  Yapral  Yella Reddy Guda  \\\n",
       "0                 0               0            0       0                 0   \n",
       "1                 0               0            0       0                 0   \n",
       "2                 0               0            0       0                 0   \n",
       "3                 0               0            0       0                 0   \n",
       "4                 0               0            0       0                 0   \n",
       "\n",
       "   Yousufguda  Zamistanpur  kondapur  kukatpally  \n",
       "0           0            0         0           0  \n",
       "1           0            0         0           0  \n",
       "2           0            0         0           0  \n",
       "3           0            0         0           0  \n",
       "4           0            0         0           0  \n",
       "\n",
       "[5 rows x 203 columns]"
      ]
     },
     "execution_count": 157,
     "metadata": {},
     "output_type": "execute_result"
    }
   ],
   "source": [
    "X = df7.drop(columns='rent_amount')\n",
    "y = df7.rent_amount\n",
    "\n",
    "X.head()"
   ]
  },
  {
   "cell_type": "code",
   "execution_count": 158,
   "metadata": {},
   "outputs": [
    {
     "data": {
      "text/plain": [
       "0    21500\n",
       "1    10000\n",
       "2     5900\n",
       "3     5900\n",
       "4    17000\n",
       "Name: rent_amount, dtype: int64"
      ]
     },
     "execution_count": 158,
     "metadata": {},
     "output_type": "execute_result"
    }
   ],
   "source": [
    "y.head()"
   ]
  },
  {
   "cell_type": "code",
   "execution_count": 159,
   "metadata": {},
   "outputs": [],
   "source": [
    "X_train, X_test, y_train, y_test = train_test_split(X, y, test_size=0.2, random_state=9)"
   ]
  },
  {
   "cell_type": "code",
   "execution_count": 216,
   "metadata": {},
   "outputs": [],
   "source": [
    "models = {\n",
    "    'Linear Regression': LinearRegression(),\n",
    "    'Lasso Regression': Lasso(),\n",
    "    'Ridge Regression': Ridge()\n",
    "}"
   ]
  },
  {
   "cell_type": "code",
   "execution_count": 217,
   "metadata": {},
   "outputs": [],
   "source": [
    "param_grids = {\n",
    "    'Linear Regression': {},\n",
    "    'Lasso Regression': {'alpha': [0.001, 0.01, 0.1, 1, 10]},\n",
    "    'Ridge Regression': {'alpha': [0.001, 0.01, 0.1, 1, 10]}\n",
    "}"
   ]
  },
  {
   "cell_type": "code",
   "execution_count": 218,
   "metadata": {},
   "outputs": [],
   "source": [
    "def train_and_tune_model(model, param_grid, X_train, y_train):\n",
    "    grid_search = GridSearchCV(model, param_grid, cv=5, scoring='r2')\n",
    "    grid_search.fit(X_train, y_train)\n",
    "    best_model = grid_search.best_estimator_\n",
    "    return best_model\n",
    "\n",
    "def predict_and_evaluate(model, X_test, y_test):\n",
    "    y_pred = model.predict(X_test)\n",
    "    r2 = r2_score(y_test, y_pred)\n",
    "    mae = mean_absolute_error(y_test, y_pred)\n",
    "    mse = mean_squared_error(y_test, y_pred)\n",
    "    rmse = np.sqrt(mse)\n",
    "    return r2, mae, mse, rmse"
   ]
  },
  {
   "cell_type": "code",
   "execution_count": 219,
   "metadata": {},
   "outputs": [
    {
     "name": "stdout",
     "output_type": "stream",
     "text": [
      "Training and tuning Linear Regression...\n",
      "Linear Regression - R-squared: 0.9389\n",
      "Training and tuning Lasso Regression...\n",
      "Lasso Regression - R-squared: 0.9385\n",
      "Training and tuning Ridge Regression...\n",
      "Ridge Regression - R-squared: 0.9389\n"
     ]
    }
   ],
   "source": [
    "best_models = {}\n",
    "model_scores = {}\n",
    "\n",
    "for model_name, model in models.items():\n",
    "    print(f'Training and tuning {model_name}...')\n",
    "    param_grid = param_grids[model_name]\n",
    "    best_model = train_and_tune_model(model, param_grid, X_train, y_train)\n",
    "    best_models[model_name] = best_model\n",
    "    r2, _, _, _ = predict_and_evaluate(best_model, X_test, y_test)\n",
    "    model_scores[model_name] = r2\n",
    "    print(f'{model_name} - R-squared: {r2:.4f}')"
   ]
  },
  {
   "cell_type": "code",
   "execution_count": 220,
   "metadata": {},
   "outputs": [
    {
     "name": "stdout",
     "output_type": "stream",
     "text": [
      "\n",
      "The best model for deployment is: Linear Regression with R-squared: 0.9389\n"
     ]
    }
   ],
   "source": [
    "model_names = list(models.keys())\n",
    "r2_scores = [model_scores[name] for name in model_names]\n",
    "\n",
    "best_model_name = max(model_scores, key=model_scores.get)\n",
    "best_model_for_deployment = best_models[best_model_name]\n",
    "\n",
    "print(f'\\nThe best model for deployment is: {best_model_name} with R-squared: {model_scores[best_model_name]:.4f}')"
   ]
  },
  {
   "cell_type": "code",
   "execution_count": 221,
   "metadata": {},
   "outputs": [
    {
     "data": {
      "text/html": [
       "<style>#sk-container-id-4 {color: black;background-color: white;}#sk-container-id-4 pre{padding: 0;}#sk-container-id-4 div.sk-toggleable {background-color: white;}#sk-container-id-4 label.sk-toggleable__label {cursor: pointer;display: block;width: 100%;margin-bottom: 0;padding: 0.3em;box-sizing: border-box;text-align: center;}#sk-container-id-4 label.sk-toggleable__label-arrow:before {content: \"▸\";float: left;margin-right: 0.25em;color: #696969;}#sk-container-id-4 label.sk-toggleable__label-arrow:hover:before {color: black;}#sk-container-id-4 div.sk-estimator:hover label.sk-toggleable__label-arrow:before {color: black;}#sk-container-id-4 div.sk-toggleable__content {max-height: 0;max-width: 0;overflow: hidden;text-align: left;background-color: #f0f8ff;}#sk-container-id-4 div.sk-toggleable__content pre {margin: 0.2em;color: black;border-radius: 0.25em;background-color: #f0f8ff;}#sk-container-id-4 input.sk-toggleable__control:checked~div.sk-toggleable__content {max-height: 200px;max-width: 100%;overflow: auto;}#sk-container-id-4 input.sk-toggleable__control:checked~label.sk-toggleable__label-arrow:before {content: \"▾\";}#sk-container-id-4 div.sk-estimator input.sk-toggleable__control:checked~label.sk-toggleable__label {background-color: #d4ebff;}#sk-container-id-4 div.sk-label input.sk-toggleable__control:checked~label.sk-toggleable__label {background-color: #d4ebff;}#sk-container-id-4 input.sk-hidden--visually {border: 0;clip: rect(1px 1px 1px 1px);clip: rect(1px, 1px, 1px, 1px);height: 1px;margin: -1px;overflow: hidden;padding: 0;position: absolute;width: 1px;}#sk-container-id-4 div.sk-estimator {font-family: monospace;background-color: #f0f8ff;border: 1px dotted black;border-radius: 0.25em;box-sizing: border-box;margin-bottom: 0.5em;}#sk-container-id-4 div.sk-estimator:hover {background-color: #d4ebff;}#sk-container-id-4 div.sk-parallel-item::after {content: \"\";width: 100%;border-bottom: 1px solid gray;flex-grow: 1;}#sk-container-id-4 div.sk-label:hover label.sk-toggleable__label {background-color: #d4ebff;}#sk-container-id-4 div.sk-serial::before {content: \"\";position: absolute;border-left: 1px solid gray;box-sizing: border-box;top: 0;bottom: 0;left: 50%;z-index: 0;}#sk-container-id-4 div.sk-serial {display: flex;flex-direction: column;align-items: center;background-color: white;padding-right: 0.2em;padding-left: 0.2em;position: relative;}#sk-container-id-4 div.sk-item {position: relative;z-index: 1;}#sk-container-id-4 div.sk-parallel {display: flex;align-items: stretch;justify-content: center;background-color: white;position: relative;}#sk-container-id-4 div.sk-item::before, #sk-container-id-4 div.sk-parallel-item::before {content: \"\";position: absolute;border-left: 1px solid gray;box-sizing: border-box;top: 0;bottom: 0;left: 50%;z-index: -1;}#sk-container-id-4 div.sk-parallel-item {display: flex;flex-direction: column;z-index: 1;position: relative;background-color: white;}#sk-container-id-4 div.sk-parallel-item:first-child::after {align-self: flex-end;width: 50%;}#sk-container-id-4 div.sk-parallel-item:last-child::after {align-self: flex-start;width: 50%;}#sk-container-id-4 div.sk-parallel-item:only-child::after {width: 0;}#sk-container-id-4 div.sk-dashed-wrapped {border: 1px dashed gray;margin: 0 0.4em 0.5em 0.4em;box-sizing: border-box;padding-bottom: 0.4em;background-color: white;}#sk-container-id-4 div.sk-label label {font-family: monospace;font-weight: bold;display: inline-block;line-height: 1.2em;}#sk-container-id-4 div.sk-label-container {text-align: center;}#sk-container-id-4 div.sk-container {/* jupyter's `normalize.less` sets `[hidden] { display: none; }` but bootstrap.min.css set `[hidden] { display: none !important; }` so we also need the `!important` here to be able to override the default hidden behavior on the sphinx rendered scikit-learn.org. See: https://github.com/scikit-learn/scikit-learn/issues/21755 */display: inline-block !important;position: relative;}#sk-container-id-4 div.sk-text-repr-fallback {display: none;}</style><div id=\"sk-container-id-4\" class=\"sk-top-container\"><div class=\"sk-text-repr-fallback\"><pre>LinearRegression()</pre><b>In a Jupyter environment, please rerun this cell to show the HTML representation or trust the notebook. <br />On GitHub, the HTML representation is unable to render, please try loading this page with nbviewer.org.</b></div><div class=\"sk-container\" hidden><div class=\"sk-item\"><div class=\"sk-estimator sk-toggleable\"><input class=\"sk-toggleable__control sk-hidden--visually\" id=\"sk-estimator-id-4\" type=\"checkbox\" checked><label for=\"sk-estimator-id-4\" class=\"sk-toggleable__label sk-toggleable__label-arrow\">LinearRegression</label><div class=\"sk-toggleable__content\"><pre>LinearRegression()</pre></div></div></div></div></div>"
      ],
      "text/plain": [
       "LinearRegression()"
      ]
     },
     "execution_count": 221,
     "metadata": {},
     "output_type": "execute_result"
    }
   ],
   "source": [
    "best_model = best_models[best_model_name]\n",
    "best_model"
   ]
  },
  {
   "cell_type": "code",
   "execution_count": 195,
   "metadata": {},
   "outputs": [
    {
     "data": {
      "text/plain": [
       "Index(['balconies', 'bathroom', 'furnishingDesc', 'parking', 'property_size',\n",
       "       'type_bhk', 'floor', 'rent_per_sqft', 'A S Rao Nagar',\n",
       "       'A. S. Rao Nagar',\n",
       "       ...\n",
       "       'Warasiguda', 'West Marredpally', 'Whisper Valley', 'Whitefields',\n",
       "       'Yapral', 'Yella Reddy Guda', 'Yousufguda', 'Zamistanpur', 'kondapur',\n",
       "       'kukatpally'],\n",
       "      dtype='object', length=203)"
      ]
     },
     "execution_count": 195,
     "metadata": {},
     "output_type": "execute_result"
    }
   ],
   "source": [
    "X.columns"
   ]
  },
  {
   "cell_type": "code",
   "execution_count": 211,
   "metadata": {},
   "outputs": [
    {
     "data": {
      "text/plain": [
       "50"
      ]
     },
     "execution_count": 211,
     "metadata": {},
     "output_type": "execute_result"
    }
   ],
   "source": [
    "np.where(X.columns == 'Gachibowli')[0][0]"
   ]
  },
  {
   "cell_type": "code",
   "execution_count": 212,
   "metadata": {},
   "outputs": [],
   "source": [
    "def predict_price(locality, balconies, bathroom, furnishingDesc, parking, property_size, type_bhk, floor):\n",
    "    loc_index = np.where(X.columns == locality)[0][0]\n",
    "   \n",
    "    x = np.zeros(len(X.columns))\n",
    "    x[0] = balconies\n",
    "    x[1] = bathroom\n",
    "    x[2] = furnishingDesc\n",
    "    x[3] = parking\n",
    "    x[4] = property_size\n",
    "    x[5] = type_bhk\n",
    "    x[6] = floor\n",
    "    \n",
    "    if loc_index >= 0:\n",
    "        x[loc_index] = 1\n",
    "    return best_model.predict([x])[0]"
   ]
  },
  {
   "cell_type": "code",
   "execution_count": 202,
   "metadata": {},
   "outputs": [
    {
     "name": "stderr",
     "output_type": "stream",
     "text": [
      "/Users/pardhasaradhichukka/opt/anaconda3/envs/tf2/lib/python3.8/site-packages/sklearn/base.py:439: UserWarning: X does not have valid feature names, but LinearRegression was fitted with feature names\n",
      "  warnings.warn(\n"
     ]
    },
    {
     "data": {
      "text/plain": [
       "14788.787135199836"
      ]
     },
     "execution_count": 202,
     "metadata": {},
     "output_type": "execute_result"
    }
   ],
   "source": [
    "predict_price('Gachibowli',3,3,0.5,3,2000,3,3)"
   ]
  },
  {
   "cell_type": "markdown",
   "metadata": {},
   "source": [
    "# Saving IMP Artifacts"
   ]
  },
  {
   "cell_type": "code",
   "execution_count": 229,
   "metadata": {},
   "outputs": [],
   "source": [
    "import json\n",
    "columns = {\n",
    "    'data_columns': [col.lower() for col in X.columns]\n",
    "}\n",
    "with open(\"columns.json\", \"w\") as f:\n",
    "    f.write(json.dumps(columns))"
   ]
  },
  {
   "cell_type": "code",
   "execution_count": 222,
   "metadata": {},
   "outputs": [],
   "source": [
    "import pickle\n",
    "with open('HYD_Rent_Predictor.pkl','wb') as f:\n",
    "    pickle.dump(best_model,f)"
   ]
  },
  {
   "cell_type": "code",
   "execution_count": null,
   "metadata": {},
   "outputs": [],
   "source": []
  }
 ],
 "metadata": {
  "kernelspec": {
   "display_name": "local-venv",
   "language": "python",
   "name": "local-venv"
  },
  "language_info": {
   "codemirror_mode": {
    "name": "ipython",
    "version": 3
   },
   "file_extension": ".py",
   "mimetype": "text/x-python",
   "name": "python",
   "nbconvert_exporter": "python",
   "pygments_lexer": "ipython3",
   "version": "3.8.16"
  }
 },
 "nbformat": 4,
 "nbformat_minor": 2
}
